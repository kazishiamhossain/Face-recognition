{
 "cells": [
  {
   "cell_type": "code",
   "execution_count": 1,
   "id": "7bba9c85",
   "metadata": {},
   "outputs": [],
   "source": [
    "import numpy as np\n",
    "import pandas as pd\n",
    "import matplotlib.pyplot as plt\n",
    "import cv2\n",
    "from PIL import Image\n",
    "%matplotlib inline\n",
    "\n",
    "from glob import glob"
   ]
  },
  {
   "cell_type": "code",
   "execution_count": 2,
   "id": "35fbf489",
   "metadata": {},
   "outputs": [
    {
     "name": "stdout",
     "output_type": "stream",
     "text": [
      " Volume in drive C has no label.\n",
      " Volume Serial Number is 548D-A501\n",
      "\n",
      " Directory of C:\\Users\\DCL\\Project\\Face recognition\n",
      "\n",
      "07/30/2021  05:22 AM    <DIR>          .\n",
      "07/30/2021  05:22 AM    <DIR>          ..\n",
      "07/30/2021  05:17 AM    <DIR>          .ipynb_checkpoints\n",
      "07/30/2021  04:52 AM    <DIR>          data\n",
      "07/30/2021  03:36 AM           103,420 f_01.png\n",
      "07/30/2021  04:50 AM           103,215 female_1.png\n",
      "07/27/2021  05:22 AM    <DIR>          freeai\n",
      "07/28/2021  06:53 PM           278,500 Module-01-Object Detection(face).ipynb\n",
      "07/27/2021  11:37 AM           233,688 Module-01-Resize.ipynb\n",
      "07/27/2021  09:39 AM         1,742,656 Module-01-Understanding images.ipynb\n",
      "07/27/2021  10:09 AM           114,760 Module-01-Values or Pixles.ipynb\n",
      "07/29/2021  12:39 PM             1,983 Module-01-Videos.ipynb\n",
      "07/30/2021  05:14 AM           255,095 Module-2 - Image Croping.ipynb\n",
      "07/30/2021  05:22 AM               756 Module-2-Structuring Data.ipynb\n",
      "07/27/2021  05:12 AM                50 requirements.txt\n",
      "              10 File(s)      2,834,123 bytes\n",
      "               5 Dir(s)  29,710,008,320 bytes free\n"
     ]
    }
   ],
   "source": [
    "ls"
   ]
  },
  {
   "cell_type": "code",
   "execution_count": 3,
   "id": "a8d5ddc0",
   "metadata": {},
   "outputs": [
    {
     "name": "stdout",
     "output_type": "stream",
     "text": [
      " Volume in drive C has no label.\n",
      " Volume Serial Number is 548D-A501\n",
      "\n",
      " Directory of C:\\Users\\DCL\\Project\\Face recognition\\data\n",
      "\n",
      "07/30/2021  04:52 AM    <DIR>          .\n",
      "07/30/2021  04:52 AM    <DIR>          ..\n",
      "07/30/2021  04:53 AM    <DIR>          crop\n",
      "07/29/2021  12:24 PM    <DIR>          female\n",
      "07/28/2021  12:25 PM           930,127 haarcascade_frontalface_default.xml\n",
      "07/29/2021  11:24 AM    <DIR>          male\n",
      "07/28/2021  12:32 PM           235,849 male_000281.jpg\n",
      "07/28/2021  05:22 PM         1,439,538 male_01.png\n",
      "07/27/2021  05:32 AM            42,741 test.jpg\n",
      "07/28/2021  06:42 PM        17,319,083 video.mp4\n",
      "               5 File(s)     19,967,338 bytes\n",
      "               5 Dir(s)  29,709,549,568 bytes free\n"
     ]
    }
   ],
   "source": [
    "ls data"
   ]
  },
  {
   "cell_type": "code",
   "execution_count": 7,
   "id": "9f631cbe",
   "metadata": {},
   "outputs": [],
   "source": [
    "female = glob('./data/crop/female_crop/*.png')\n",
    "male = glob('./data/crop/male_crop/*.png')"
   ]
  },
  {
   "cell_type": "code",
   "execution_count": 8,
   "id": "ded541c1",
   "metadata": {},
   "outputs": [
    {
     "data": {
      "text/plain": [
       "['./data/crop/female_crop\\\\female_0.png',\n",
       " './data/crop/female_crop\\\\female_10.png',\n",
       " './data/crop/female_crop\\\\female_100.png',\n",
       " './data/crop/female_crop\\\\female_102.png',\n",
       " './data/crop/female_crop\\\\female_104.png',\n",
       " './data/crop/female_crop\\\\female_105.png',\n",
       " './data/crop/female_crop\\\\female_106.png',\n",
       " './data/crop/female_crop\\\\female_107.png',\n",
       " './data/crop/female_crop\\\\female_112.png',\n",
       " './data/crop/female_crop\\\\female_115.png',\n",
       " './data/crop/female_crop\\\\female_117.png',\n",
       " './data/crop/female_crop\\\\female_118.png',\n",
       " './data/crop/female_crop\\\\female_119.png',\n",
       " './data/crop/female_crop\\\\female_12.png',\n",
       " './data/crop/female_crop\\\\female_121.png',\n",
       " './data/crop/female_crop\\\\female_122.png',\n",
       " './data/crop/female_crop\\\\female_123.png',\n",
       " './data/crop/female_crop\\\\female_125.png',\n",
       " './data/crop/female_crop\\\\female_128.png',\n",
       " './data/crop/female_crop\\\\female_14.png',\n",
       " './data/crop/female_crop\\\\female_15.png',\n",
       " './data/crop/female_crop\\\\female_18.png',\n",
       " './data/crop/female_crop\\\\female_2.png',\n",
       " './data/crop/female_crop\\\\female_20.png',\n",
       " './data/crop/female_crop\\\\female_21.png',\n",
       " './data/crop/female_crop\\\\female_22.png',\n",
       " './data/crop/female_crop\\\\female_23.png',\n",
       " './data/crop/female_crop\\\\female_24.png',\n",
       " './data/crop/female_crop\\\\female_25.png',\n",
       " './data/crop/female_crop\\\\female_27.png',\n",
       " './data/crop/female_crop\\\\female_28.png',\n",
       " './data/crop/female_crop\\\\female_29.png',\n",
       " './data/crop/female_crop\\\\female_3.png',\n",
       " './data/crop/female_crop\\\\female_30.png',\n",
       " './data/crop/female_crop\\\\female_32.png',\n",
       " './data/crop/female_crop\\\\female_33.png',\n",
       " './data/crop/female_crop\\\\female_34.png',\n",
       " './data/crop/female_crop\\\\female_35.png',\n",
       " './data/crop/female_crop\\\\female_37.png',\n",
       " './data/crop/female_crop\\\\female_39.png',\n",
       " './data/crop/female_crop\\\\female_40.png',\n",
       " './data/crop/female_crop\\\\female_42.png',\n",
       " './data/crop/female_crop\\\\female_43.png',\n",
       " './data/crop/female_crop\\\\female_46.png',\n",
       " './data/crop/female_crop\\\\female_5.png',\n",
       " './data/crop/female_crop\\\\female_50.png',\n",
       " './data/crop/female_crop\\\\female_55.png',\n",
       " './data/crop/female_crop\\\\female_57.png',\n",
       " './data/crop/female_crop\\\\female_60.png',\n",
       " './data/crop/female_crop\\\\female_61.png',\n",
       " './data/crop/female_crop\\\\female_62.png',\n",
       " './data/crop/female_crop\\\\female_63.png',\n",
       " './data/crop/female_crop\\\\female_64.png',\n",
       " './data/crop/female_crop\\\\female_66.png',\n",
       " './data/crop/female_crop\\\\female_67.png',\n",
       " './data/crop/female_crop\\\\female_68.png',\n",
       " './data/crop/female_crop\\\\female_69.png',\n",
       " './data/crop/female_crop\\\\female_7.png',\n",
       " './data/crop/female_crop\\\\female_70.png',\n",
       " './data/crop/female_crop\\\\female_73.png',\n",
       " './data/crop/female_crop\\\\female_74.png',\n",
       " './data/crop/female_crop\\\\female_75.png',\n",
       " './data/crop/female_crop\\\\female_77.png',\n",
       " './data/crop/female_crop\\\\female_79.png',\n",
       " './data/crop/female_crop\\\\female_8.png',\n",
       " './data/crop/female_crop\\\\female_80.png',\n",
       " './data/crop/female_crop\\\\female_81.png',\n",
       " './data/crop/female_crop\\\\female_82.png',\n",
       " './data/crop/female_crop\\\\female_85.png',\n",
       " './data/crop/female_crop\\\\female_86.png',\n",
       " './data/crop/female_crop\\\\female_87.png',\n",
       " './data/crop/female_crop\\\\female_89.png',\n",
       " './data/crop/female_crop\\\\female_90.png',\n",
       " './data/crop/female_crop\\\\female_91.png',\n",
       " './data/crop/female_crop\\\\female_92.png',\n",
       " './data/crop/female_crop\\\\female_93.png',\n",
       " './data/crop/female_crop\\\\female_94.png',\n",
       " './data/crop/female_crop\\\\female_95.png',\n",
       " './data/crop/female_crop\\\\female_96.png',\n",
       " './data/crop/female_crop\\\\female_97.png',\n",
       " './data/crop/female_crop\\\\female_98.png',\n",
       " './data/crop/female_crop\\\\female_99.png']"
      ]
     },
     "execution_count": 8,
     "metadata": {},
     "output_type": "execute_result"
    }
   ],
   "source": [
    "female"
   ]
  },
  {
   "cell_type": "code",
   "execution_count": 9,
   "id": "b4d4ac0a",
   "metadata": {},
   "outputs": [
    {
     "data": {
      "text/plain": [
       "['./data/crop/male_crop\\\\male_0.png',\n",
       " './data/crop/male_crop\\\\male_1.png',\n",
       " './data/crop/male_crop\\\\male_10.png',\n",
       " './data/crop/male_crop\\\\male_101.png',\n",
       " './data/crop/male_crop\\\\male_102.png',\n",
       " './data/crop/male_crop\\\\male_104.png',\n",
       " './data/crop/male_crop\\\\male_107.png',\n",
       " './data/crop/male_crop\\\\male_11.png',\n",
       " './data/crop/male_crop\\\\male_12.png',\n",
       " './data/crop/male_crop\\\\male_13.png',\n",
       " './data/crop/male_crop\\\\male_14.png',\n",
       " './data/crop/male_crop\\\\male_16.png',\n",
       " './data/crop/male_crop\\\\male_2.png',\n",
       " './data/crop/male_crop\\\\male_20.png',\n",
       " './data/crop/male_crop\\\\male_21.png',\n",
       " './data/crop/male_crop\\\\male_22.png',\n",
       " './data/crop/male_crop\\\\male_23.png',\n",
       " './data/crop/male_crop\\\\male_24.png',\n",
       " './data/crop/male_crop\\\\male_26.png',\n",
       " './data/crop/male_crop\\\\male_27.png',\n",
       " './data/crop/male_crop\\\\male_28.png',\n",
       " './data/crop/male_crop\\\\male_31.png',\n",
       " './data/crop/male_crop\\\\male_32.png',\n",
       " './data/crop/male_crop\\\\male_33.png',\n",
       " './data/crop/male_crop\\\\male_35.png',\n",
       " './data/crop/male_crop\\\\male_36.png',\n",
       " './data/crop/male_crop\\\\male_37.png',\n",
       " './data/crop/male_crop\\\\male_39.png',\n",
       " './data/crop/male_crop\\\\male_41.png',\n",
       " './data/crop/male_crop\\\\male_42.png',\n",
       " './data/crop/male_crop\\\\male_44.png',\n",
       " './data/crop/male_crop\\\\male_45.png',\n",
       " './data/crop/male_crop\\\\male_47.png',\n",
       " './data/crop/male_crop\\\\male_50.png',\n",
       " './data/crop/male_crop\\\\male_51.png',\n",
       " './data/crop/male_crop\\\\male_52.png',\n",
       " './data/crop/male_crop\\\\male_54.png',\n",
       " './data/crop/male_crop\\\\male_56.png',\n",
       " './data/crop/male_crop\\\\male_58.png',\n",
       " './data/crop/male_crop\\\\male_59.png',\n",
       " './data/crop/male_crop\\\\male_60.png',\n",
       " './data/crop/male_crop\\\\male_61.png',\n",
       " './data/crop/male_crop\\\\male_62.png',\n",
       " './data/crop/male_crop\\\\male_63.png',\n",
       " './data/crop/male_crop\\\\male_64.png',\n",
       " './data/crop/male_crop\\\\male_66.png',\n",
       " './data/crop/male_crop\\\\male_67.png',\n",
       " './data/crop/male_crop\\\\male_68.png',\n",
       " './data/crop/male_crop\\\\male_69.png',\n",
       " './data/crop/male_crop\\\\male_7.png',\n",
       " './data/crop/male_crop\\\\male_73.png',\n",
       " './data/crop/male_crop\\\\male_74.png',\n",
       " './data/crop/male_crop\\\\male_76.png',\n",
       " './data/crop/male_crop\\\\male_77.png',\n",
       " './data/crop/male_crop\\\\male_78.png',\n",
       " './data/crop/male_crop\\\\male_80.png',\n",
       " './data/crop/male_crop\\\\male_82.png',\n",
       " './data/crop/male_crop\\\\male_83.png',\n",
       " './data/crop/male_crop\\\\male_84.png',\n",
       " './data/crop/male_crop\\\\male_85.png',\n",
       " './data/crop/male_crop\\\\male_88.png',\n",
       " './data/crop/male_crop\\\\male_89.png',\n",
       " './data/crop/male_crop\\\\male_90.png',\n",
       " './data/crop/male_crop\\\\male_92.png',\n",
       " './data/crop/male_crop\\\\male_93.png',\n",
       " './data/crop/male_crop\\\\male_94.png',\n",
       " './data/crop/male_crop\\\\male_97.png',\n",
       " './data/crop/male_crop\\\\male_98.png']"
      ]
     },
     "execution_count": 9,
     "metadata": {},
     "output_type": "execute_result"
    }
   ],
   "source": [
    "male"
   ]
  },
  {
   "cell_type": "code",
   "execution_count": 10,
   "id": "7d28d20b",
   "metadata": {},
   "outputs": [],
   "source": [
    "path = female + male"
   ]
  },
  {
   "cell_type": "code",
   "execution_count": 11,
   "id": "04f5ef55",
   "metadata": {},
   "outputs": [
    {
     "data": {
      "text/plain": [
       "['./data/crop/female_crop\\\\female_0.png',\n",
       " './data/crop/female_crop\\\\female_10.png',\n",
       " './data/crop/female_crop\\\\female_100.png',\n",
       " './data/crop/female_crop\\\\female_102.png',\n",
       " './data/crop/female_crop\\\\female_104.png',\n",
       " './data/crop/female_crop\\\\female_105.png',\n",
       " './data/crop/female_crop\\\\female_106.png',\n",
       " './data/crop/female_crop\\\\female_107.png',\n",
       " './data/crop/female_crop\\\\female_112.png',\n",
       " './data/crop/female_crop\\\\female_115.png',\n",
       " './data/crop/female_crop\\\\female_117.png',\n",
       " './data/crop/female_crop\\\\female_118.png',\n",
       " './data/crop/female_crop\\\\female_119.png',\n",
       " './data/crop/female_crop\\\\female_12.png',\n",
       " './data/crop/female_crop\\\\female_121.png',\n",
       " './data/crop/female_crop\\\\female_122.png',\n",
       " './data/crop/female_crop\\\\female_123.png',\n",
       " './data/crop/female_crop\\\\female_125.png',\n",
       " './data/crop/female_crop\\\\female_128.png',\n",
       " './data/crop/female_crop\\\\female_14.png',\n",
       " './data/crop/female_crop\\\\female_15.png',\n",
       " './data/crop/female_crop\\\\female_18.png',\n",
       " './data/crop/female_crop\\\\female_2.png',\n",
       " './data/crop/female_crop\\\\female_20.png',\n",
       " './data/crop/female_crop\\\\female_21.png',\n",
       " './data/crop/female_crop\\\\female_22.png',\n",
       " './data/crop/female_crop\\\\female_23.png',\n",
       " './data/crop/female_crop\\\\female_24.png',\n",
       " './data/crop/female_crop\\\\female_25.png',\n",
       " './data/crop/female_crop\\\\female_27.png',\n",
       " './data/crop/female_crop\\\\female_28.png',\n",
       " './data/crop/female_crop\\\\female_29.png',\n",
       " './data/crop/female_crop\\\\female_3.png',\n",
       " './data/crop/female_crop\\\\female_30.png',\n",
       " './data/crop/female_crop\\\\female_32.png',\n",
       " './data/crop/female_crop\\\\female_33.png',\n",
       " './data/crop/female_crop\\\\female_34.png',\n",
       " './data/crop/female_crop\\\\female_35.png',\n",
       " './data/crop/female_crop\\\\female_37.png',\n",
       " './data/crop/female_crop\\\\female_39.png',\n",
       " './data/crop/female_crop\\\\female_40.png',\n",
       " './data/crop/female_crop\\\\female_42.png',\n",
       " './data/crop/female_crop\\\\female_43.png',\n",
       " './data/crop/female_crop\\\\female_46.png',\n",
       " './data/crop/female_crop\\\\female_5.png',\n",
       " './data/crop/female_crop\\\\female_50.png',\n",
       " './data/crop/female_crop\\\\female_55.png',\n",
       " './data/crop/female_crop\\\\female_57.png',\n",
       " './data/crop/female_crop\\\\female_60.png',\n",
       " './data/crop/female_crop\\\\female_61.png',\n",
       " './data/crop/female_crop\\\\female_62.png',\n",
       " './data/crop/female_crop\\\\female_63.png',\n",
       " './data/crop/female_crop\\\\female_64.png',\n",
       " './data/crop/female_crop\\\\female_66.png',\n",
       " './data/crop/female_crop\\\\female_67.png',\n",
       " './data/crop/female_crop\\\\female_68.png',\n",
       " './data/crop/female_crop\\\\female_69.png',\n",
       " './data/crop/female_crop\\\\female_7.png',\n",
       " './data/crop/female_crop\\\\female_70.png',\n",
       " './data/crop/female_crop\\\\female_73.png',\n",
       " './data/crop/female_crop\\\\female_74.png',\n",
       " './data/crop/female_crop\\\\female_75.png',\n",
       " './data/crop/female_crop\\\\female_77.png',\n",
       " './data/crop/female_crop\\\\female_79.png',\n",
       " './data/crop/female_crop\\\\female_8.png',\n",
       " './data/crop/female_crop\\\\female_80.png',\n",
       " './data/crop/female_crop\\\\female_81.png',\n",
       " './data/crop/female_crop\\\\female_82.png',\n",
       " './data/crop/female_crop\\\\female_85.png',\n",
       " './data/crop/female_crop\\\\female_86.png',\n",
       " './data/crop/female_crop\\\\female_87.png',\n",
       " './data/crop/female_crop\\\\female_89.png',\n",
       " './data/crop/female_crop\\\\female_90.png',\n",
       " './data/crop/female_crop\\\\female_91.png',\n",
       " './data/crop/female_crop\\\\female_92.png',\n",
       " './data/crop/female_crop\\\\female_93.png',\n",
       " './data/crop/female_crop\\\\female_94.png',\n",
       " './data/crop/female_crop\\\\female_95.png',\n",
       " './data/crop/female_crop\\\\female_96.png',\n",
       " './data/crop/female_crop\\\\female_97.png',\n",
       " './data/crop/female_crop\\\\female_98.png',\n",
       " './data/crop/female_crop\\\\female_99.png',\n",
       " './data/crop/male_crop\\\\male_0.png',\n",
       " './data/crop/male_crop\\\\male_1.png',\n",
       " './data/crop/male_crop\\\\male_10.png',\n",
       " './data/crop/male_crop\\\\male_101.png',\n",
       " './data/crop/male_crop\\\\male_102.png',\n",
       " './data/crop/male_crop\\\\male_104.png',\n",
       " './data/crop/male_crop\\\\male_107.png',\n",
       " './data/crop/male_crop\\\\male_11.png',\n",
       " './data/crop/male_crop\\\\male_12.png',\n",
       " './data/crop/male_crop\\\\male_13.png',\n",
       " './data/crop/male_crop\\\\male_14.png',\n",
       " './data/crop/male_crop\\\\male_16.png',\n",
       " './data/crop/male_crop\\\\male_2.png',\n",
       " './data/crop/male_crop\\\\male_20.png',\n",
       " './data/crop/male_crop\\\\male_21.png',\n",
       " './data/crop/male_crop\\\\male_22.png',\n",
       " './data/crop/male_crop\\\\male_23.png',\n",
       " './data/crop/male_crop\\\\male_24.png',\n",
       " './data/crop/male_crop\\\\male_26.png',\n",
       " './data/crop/male_crop\\\\male_27.png',\n",
       " './data/crop/male_crop\\\\male_28.png',\n",
       " './data/crop/male_crop\\\\male_31.png',\n",
       " './data/crop/male_crop\\\\male_32.png',\n",
       " './data/crop/male_crop\\\\male_33.png',\n",
       " './data/crop/male_crop\\\\male_35.png',\n",
       " './data/crop/male_crop\\\\male_36.png',\n",
       " './data/crop/male_crop\\\\male_37.png',\n",
       " './data/crop/male_crop\\\\male_39.png',\n",
       " './data/crop/male_crop\\\\male_41.png',\n",
       " './data/crop/male_crop\\\\male_42.png',\n",
       " './data/crop/male_crop\\\\male_44.png',\n",
       " './data/crop/male_crop\\\\male_45.png',\n",
       " './data/crop/male_crop\\\\male_47.png',\n",
       " './data/crop/male_crop\\\\male_50.png',\n",
       " './data/crop/male_crop\\\\male_51.png',\n",
       " './data/crop/male_crop\\\\male_52.png',\n",
       " './data/crop/male_crop\\\\male_54.png',\n",
       " './data/crop/male_crop\\\\male_56.png',\n",
       " './data/crop/male_crop\\\\male_58.png',\n",
       " './data/crop/male_crop\\\\male_59.png',\n",
       " './data/crop/male_crop\\\\male_60.png',\n",
       " './data/crop/male_crop\\\\male_61.png',\n",
       " './data/crop/male_crop\\\\male_62.png',\n",
       " './data/crop/male_crop\\\\male_63.png',\n",
       " './data/crop/male_crop\\\\male_64.png',\n",
       " './data/crop/male_crop\\\\male_66.png',\n",
       " './data/crop/male_crop\\\\male_67.png',\n",
       " './data/crop/male_crop\\\\male_68.png',\n",
       " './data/crop/male_crop\\\\male_69.png',\n",
       " './data/crop/male_crop\\\\male_7.png',\n",
       " './data/crop/male_crop\\\\male_73.png',\n",
       " './data/crop/male_crop\\\\male_74.png',\n",
       " './data/crop/male_crop\\\\male_76.png',\n",
       " './data/crop/male_crop\\\\male_77.png',\n",
       " './data/crop/male_crop\\\\male_78.png',\n",
       " './data/crop/male_crop\\\\male_80.png',\n",
       " './data/crop/male_crop\\\\male_82.png',\n",
       " './data/crop/male_crop\\\\male_83.png',\n",
       " './data/crop/male_crop\\\\male_84.png',\n",
       " './data/crop/male_crop\\\\male_85.png',\n",
       " './data/crop/male_crop\\\\male_88.png',\n",
       " './data/crop/male_crop\\\\male_89.png',\n",
       " './data/crop/male_crop\\\\male_90.png',\n",
       " './data/crop/male_crop\\\\male_92.png',\n",
       " './data/crop/male_crop\\\\male_93.png',\n",
       " './data/crop/male_crop\\\\male_94.png',\n",
       " './data/crop/male_crop\\\\male_97.png',\n",
       " './data/crop/male_crop\\\\male_98.png']"
      ]
     },
     "execution_count": 11,
     "metadata": {},
     "output_type": "execute_result"
    }
   ],
   "source": [
    "path"
   ]
  },
  {
   "cell_type": "code",
   "execution_count": 12,
   "id": "dfe8aae1",
   "metadata": {},
   "outputs": [
    {
     "data": {
      "text/plain": [
       "['./data/crop/male_crop\\\\male_98.png',\n",
       " './data/crop/male_crop\\\\male_97.png',\n",
       " './data/crop/male_crop\\\\male_94.png',\n",
       " './data/crop/male_crop\\\\male_93.png',\n",
       " './data/crop/male_crop\\\\male_92.png',\n",
       " './data/crop/male_crop\\\\male_90.png',\n",
       " './data/crop/male_crop\\\\male_89.png',\n",
       " './data/crop/male_crop\\\\male_88.png',\n",
       " './data/crop/male_crop\\\\male_85.png',\n",
       " './data/crop/male_crop\\\\male_84.png',\n",
       " './data/crop/male_crop\\\\male_83.png',\n",
       " './data/crop/male_crop\\\\male_82.png',\n",
       " './data/crop/male_crop\\\\male_80.png',\n",
       " './data/crop/male_crop\\\\male_78.png',\n",
       " './data/crop/male_crop\\\\male_77.png',\n",
       " './data/crop/male_crop\\\\male_76.png',\n",
       " './data/crop/male_crop\\\\male_74.png',\n",
       " './data/crop/male_crop\\\\male_73.png',\n",
       " './data/crop/male_crop\\\\male_7.png',\n",
       " './data/crop/male_crop\\\\male_69.png',\n",
       " './data/crop/male_crop\\\\male_68.png',\n",
       " './data/crop/male_crop\\\\male_67.png',\n",
       " './data/crop/male_crop\\\\male_66.png',\n",
       " './data/crop/male_crop\\\\male_64.png',\n",
       " './data/crop/male_crop\\\\male_63.png',\n",
       " './data/crop/male_crop\\\\male_62.png',\n",
       " './data/crop/male_crop\\\\male_61.png',\n",
       " './data/crop/male_crop\\\\male_60.png',\n",
       " './data/crop/male_crop\\\\male_59.png',\n",
       " './data/crop/male_crop\\\\male_58.png',\n",
       " './data/crop/male_crop\\\\male_56.png',\n",
       " './data/crop/male_crop\\\\male_54.png',\n",
       " './data/crop/male_crop\\\\male_52.png',\n",
       " './data/crop/male_crop\\\\male_51.png',\n",
       " './data/crop/male_crop\\\\male_50.png',\n",
       " './data/crop/male_crop\\\\male_47.png',\n",
       " './data/crop/male_crop\\\\male_45.png',\n",
       " './data/crop/male_crop\\\\male_44.png',\n",
       " './data/crop/male_crop\\\\male_42.png',\n",
       " './data/crop/male_crop\\\\male_41.png',\n",
       " './data/crop/male_crop\\\\male_39.png',\n",
       " './data/crop/male_crop\\\\male_37.png',\n",
       " './data/crop/male_crop\\\\male_36.png',\n",
       " './data/crop/male_crop\\\\male_35.png',\n",
       " './data/crop/male_crop\\\\male_33.png',\n",
       " './data/crop/male_crop\\\\male_32.png',\n",
       " './data/crop/male_crop\\\\male_31.png',\n",
       " './data/crop/male_crop\\\\male_28.png',\n",
       " './data/crop/male_crop\\\\male_27.png',\n",
       " './data/crop/male_crop\\\\male_26.png',\n",
       " './data/crop/male_crop\\\\male_24.png',\n",
       " './data/crop/male_crop\\\\male_23.png',\n",
       " './data/crop/male_crop\\\\male_22.png',\n",
       " './data/crop/male_crop\\\\male_21.png',\n",
       " './data/crop/male_crop\\\\male_20.png',\n",
       " './data/crop/male_crop\\\\male_2.png',\n",
       " './data/crop/male_crop\\\\male_16.png',\n",
       " './data/crop/male_crop\\\\male_14.png',\n",
       " './data/crop/male_crop\\\\male_13.png',\n",
       " './data/crop/male_crop\\\\male_12.png',\n",
       " './data/crop/male_crop\\\\male_11.png',\n",
       " './data/crop/male_crop\\\\male_107.png',\n",
       " './data/crop/male_crop\\\\male_104.png',\n",
       " './data/crop/male_crop\\\\male_102.png',\n",
       " './data/crop/male_crop\\\\male_101.png',\n",
       " './data/crop/male_crop\\\\male_10.png',\n",
       " './data/crop/male_crop\\\\male_1.png',\n",
       " './data/crop/male_crop\\\\male_0.png',\n",
       " './data/crop/female_crop\\\\female_99.png',\n",
       " './data/crop/female_crop\\\\female_98.png',\n",
       " './data/crop/female_crop\\\\female_97.png',\n",
       " './data/crop/female_crop\\\\female_96.png',\n",
       " './data/crop/female_crop\\\\female_95.png',\n",
       " './data/crop/female_crop\\\\female_94.png',\n",
       " './data/crop/female_crop\\\\female_93.png',\n",
       " './data/crop/female_crop\\\\female_92.png',\n",
       " './data/crop/female_crop\\\\female_91.png',\n",
       " './data/crop/female_crop\\\\female_90.png',\n",
       " './data/crop/female_crop\\\\female_89.png',\n",
       " './data/crop/female_crop\\\\female_87.png',\n",
       " './data/crop/female_crop\\\\female_86.png',\n",
       " './data/crop/female_crop\\\\female_85.png',\n",
       " './data/crop/female_crop\\\\female_82.png',\n",
       " './data/crop/female_crop\\\\female_81.png',\n",
       " './data/crop/female_crop\\\\female_80.png',\n",
       " './data/crop/female_crop\\\\female_8.png',\n",
       " './data/crop/female_crop\\\\female_79.png',\n",
       " './data/crop/female_crop\\\\female_77.png',\n",
       " './data/crop/female_crop\\\\female_75.png',\n",
       " './data/crop/female_crop\\\\female_74.png',\n",
       " './data/crop/female_crop\\\\female_73.png',\n",
       " './data/crop/female_crop\\\\female_70.png',\n",
       " './data/crop/female_crop\\\\female_7.png',\n",
       " './data/crop/female_crop\\\\female_69.png',\n",
       " './data/crop/female_crop\\\\female_68.png',\n",
       " './data/crop/female_crop\\\\female_67.png',\n",
       " './data/crop/female_crop\\\\female_66.png',\n",
       " './data/crop/female_crop\\\\female_64.png',\n",
       " './data/crop/female_crop\\\\female_63.png',\n",
       " './data/crop/female_crop\\\\female_62.png',\n",
       " './data/crop/female_crop\\\\female_61.png',\n",
       " './data/crop/female_crop\\\\female_60.png',\n",
       " './data/crop/female_crop\\\\female_57.png',\n",
       " './data/crop/female_crop\\\\female_55.png',\n",
       " './data/crop/female_crop\\\\female_50.png',\n",
       " './data/crop/female_crop\\\\female_5.png',\n",
       " './data/crop/female_crop\\\\female_46.png',\n",
       " './data/crop/female_crop\\\\female_43.png',\n",
       " './data/crop/female_crop\\\\female_42.png',\n",
       " './data/crop/female_crop\\\\female_40.png',\n",
       " './data/crop/female_crop\\\\female_39.png',\n",
       " './data/crop/female_crop\\\\female_37.png',\n",
       " './data/crop/female_crop\\\\female_35.png',\n",
       " './data/crop/female_crop\\\\female_34.png',\n",
       " './data/crop/female_crop\\\\female_33.png',\n",
       " './data/crop/female_crop\\\\female_32.png',\n",
       " './data/crop/female_crop\\\\female_30.png',\n",
       " './data/crop/female_crop\\\\female_3.png',\n",
       " './data/crop/female_crop\\\\female_29.png',\n",
       " './data/crop/female_crop\\\\female_28.png',\n",
       " './data/crop/female_crop\\\\female_27.png',\n",
       " './data/crop/female_crop\\\\female_25.png',\n",
       " './data/crop/female_crop\\\\female_24.png',\n",
       " './data/crop/female_crop\\\\female_23.png',\n",
       " './data/crop/female_crop\\\\female_22.png',\n",
       " './data/crop/female_crop\\\\female_21.png',\n",
       " './data/crop/female_crop\\\\female_20.png',\n",
       " './data/crop/female_crop\\\\female_2.png',\n",
       " './data/crop/female_crop\\\\female_18.png',\n",
       " './data/crop/female_crop\\\\female_15.png',\n",
       " './data/crop/female_crop\\\\female_14.png',\n",
       " './data/crop/female_crop\\\\female_128.png',\n",
       " './data/crop/female_crop\\\\female_125.png',\n",
       " './data/crop/female_crop\\\\female_123.png',\n",
       " './data/crop/female_crop\\\\female_122.png',\n",
       " './data/crop/female_crop\\\\female_121.png',\n",
       " './data/crop/female_crop\\\\female_12.png',\n",
       " './data/crop/female_crop\\\\female_119.png',\n",
       " './data/crop/female_crop\\\\female_118.png',\n",
       " './data/crop/female_crop\\\\female_117.png',\n",
       " './data/crop/female_crop\\\\female_115.png',\n",
       " './data/crop/female_crop\\\\female_112.png',\n",
       " './data/crop/female_crop\\\\female_107.png',\n",
       " './data/crop/female_crop\\\\female_106.png',\n",
       " './data/crop/female_crop\\\\female_105.png',\n",
       " './data/crop/female_crop\\\\female_104.png',\n",
       " './data/crop/female_crop\\\\female_102.png',\n",
       " './data/crop/female_crop\\\\female_100.png',\n",
       " './data/crop/female_crop\\\\female_10.png',\n",
       " './data/crop/female_crop\\\\female_0.png']"
      ]
     },
     "execution_count": 12,
     "metadata": {},
     "output_type": "execute_result"
    }
   ],
   "source": [
    "path[::-1]"
   ]
  },
  {
   "cell_type": "code",
   "execution_count": 13,
   "id": "02f2097c",
   "metadata": {},
   "outputs": [
    {
     "data": {
      "image/png": "[encoded data removed]",
      "text/plain": [
       "<PIL.PngImagePlugin.PngImageFile image mode=RGB size=273x273 at 0x6066568>"
      ]
     },
     "execution_count": 13,
     "metadata": {},
     "output_type": "execute_result"
    }
   ],
   "source": [
    "# getting size of image\n",
    "img = Image.open(path[0])\n",
    "img"
   ]
  },
  {
   "cell_type": "code",
   "execution_count": 14,
   "id": "dbff4a59",
   "metadata": {},
   "outputs": [
    {
     "data": {
      "text/plain": [
       "(273, 273)"
      ]
     },
     "execution_count": 14,
     "metadata": {},
     "output_type": "execute_result"
    }
   ],
   "source": [
    "# getting size of image\n",
    "img = Image.open(path[0])\n",
    "img.size"
   ]
  },
  {
   "cell_type": "code",
   "execution_count": 15,
   "id": "1417a453",
   "metadata": {},
   "outputs": [],
   "source": [
    "# getting size of image\n",
    "def getSize(path):\n",
    "    img = Image.open(path)\n",
    "    return img.size"
   ]
  },
  {
   "cell_type": "code",
   "execution_count": 16,
   "id": "04b7c287",
   "metadata": {},
   "outputs": [
    {
     "data": {
      "text/plain": [
       "(273, 273)"
      ]
     },
     "execution_count": 16,
     "metadata": {},
     "output_type": "execute_result"
    }
   ],
   "source": [
    "getSize(path[0])"
   ]
  },
  {
   "cell_type": "code",
   "execution_count": 17,
   "id": "6b72db75",
   "metadata": {},
   "outputs": [],
   "source": [
    "# getting size of image\n",
    "def getSize(path):\n",
    "    img = Image.open(path)\n",
    "    return img.size[0]"
   ]
  },
  {
   "cell_type": "code",
   "execution_count": 18,
   "id": "8fd74aaa",
   "metadata": {},
   "outputs": [
    {
     "data": {
      "text/plain": [
       "273"
      ]
     },
     "execution_count": 18,
     "metadata": {},
     "output_type": "execute_result"
    }
   ],
   "source": [
    "getSize(path[0])"
   ]
  },
  {
   "cell_type": "code",
   "execution_count": 19,
   "id": "b469dd6a",
   "metadata": {},
   "outputs": [
    {
     "data": {
      "text/html": [
       "<div>\n",
       "<style scoped>\n",
       "    .dataframe tbody tr th:only-of-type {\n",
       "        vertical-align: middle;\n",
       "    }\n",
       "\n",
       "    .dataframe tbody tr th {\n",
       "        vertical-align: top;\n",
       "    }\n",
       "\n",
       "    .dataframe thead th {\n",
       "        text-align: right;\n",
       "    }\n",
       "</style>\n",
       "<table border=\"1\" class=\"dataframe\">\n",
       "  <thead>\n",
       "    <tr style=\"text-align: right;\">\n",
       "      <th></th>\n",
       "      <th>path</th>\n",
       "    </tr>\n",
       "  </thead>\n",
       "  <tbody>\n",
       "    <tr>\n",
       "      <th>0</th>\n",
       "      <td>./data/crop/female_crop\\female_0.png</td>\n",
       "    </tr>\n",
       "    <tr>\n",
       "      <th>1</th>\n",
       "      <td>./data/crop/female_crop\\female_10.png</td>\n",
       "    </tr>\n",
       "    <tr>\n",
       "      <th>2</th>\n",
       "      <td>./data/crop/female_crop\\female_100.png</td>\n",
       "    </tr>\n",
       "    <tr>\n",
       "      <th>3</th>\n",
       "      <td>./data/crop/female_crop\\female_102.png</td>\n",
       "    </tr>\n",
       "    <tr>\n",
       "      <th>4</th>\n",
       "      <td>./data/crop/female_crop\\female_104.png</td>\n",
       "    </tr>\n",
       "  </tbody>\n",
       "</table>\n",
       "</div>"
      ],
      "text/plain": [
       "                                     path\n",
       "0    ./data/crop/female_crop\\female_0.png\n",
       "1   ./data/crop/female_crop\\female_10.png\n",
       "2  ./data/crop/female_crop\\female_100.png\n",
       "3  ./data/crop/female_crop\\female_102.png\n",
       "4  ./data/crop/female_crop\\female_104.png"
      ]
     },
     "execution_count": 19,
     "metadata": {},
     "output_type": "execute_result"
    }
   ],
   "source": [
    "# Create DataFrame\n",
    "df = pd.DataFrame(data=path,columns=['path'])\n",
    "df.head() # display top 5 rows"
   ]
  },
  {
   "cell_type": "code",
   "execution_count": 20,
   "id": "396f67ed",
   "metadata": {},
   "outputs": [
    {
     "data": {
      "text/plain": [
       "(150, 1)"
      ]
     },
     "execution_count": 20,
     "metadata": {},
     "output_type": "execute_result"
    }
   ],
   "source": [
    "df.shape"
   ]
  },
  {
   "cell_type": "code",
   "execution_count": 21,
   "id": "ee265eb1",
   "metadata": {},
   "outputs": [
    {
     "data": {
      "text/html": [
       "<div>\n",
       "<style scoped>\n",
       "    .dataframe tbody tr th:only-of-type {\n",
       "        vertical-align: middle;\n",
       "    }\n",
       "\n",
       "    .dataframe tbody tr th {\n",
       "        vertical-align: top;\n",
       "    }\n",
       "\n",
       "    .dataframe thead th {\n",
       "        text-align: right;\n",
       "    }\n",
       "</style>\n",
       "<table border=\"1\" class=\"dataframe\">\n",
       "  <thead>\n",
       "    <tr style=\"text-align: right;\">\n",
       "      <th></th>\n",
       "      <th>path</th>\n",
       "      <th>size</th>\n",
       "    </tr>\n",
       "  </thead>\n",
       "  <tbody>\n",
       "    <tr>\n",
       "      <th>0</th>\n",
       "      <td>./data/crop/female_crop\\female_0.png</td>\n",
       "      <td>273</td>\n",
       "    </tr>\n",
       "    <tr>\n",
       "      <th>1</th>\n",
       "      <td>./data/crop/female_crop\\female_10.png</td>\n",
       "      <td>182</td>\n",
       "    </tr>\n",
       "    <tr>\n",
       "      <th>2</th>\n",
       "      <td>./data/crop/female_crop\\female_100.png</td>\n",
       "      <td>273</td>\n",
       "    </tr>\n",
       "    <tr>\n",
       "      <th>3</th>\n",
       "      <td>./data/crop/female_crop\\female_102.png</td>\n",
       "      <td>273</td>\n",
       "    </tr>\n",
       "    <tr>\n",
       "      <th>4</th>\n",
       "      <td>./data/crop/female_crop\\female_104.png</td>\n",
       "      <td>273</td>\n",
       "    </tr>\n",
       "  </tbody>\n",
       "</table>\n",
       "</div>"
      ],
      "text/plain": [
       "                                     path  size\n",
       "0    ./data/crop/female_crop\\female_0.png   273\n",
       "1   ./data/crop/female_crop\\female_10.png   182\n",
       "2  ./data/crop/female_crop\\female_100.png   273\n",
       "3  ./data/crop/female_crop\\female_102.png   273\n",
       "4  ./data/crop/female_crop\\female_104.png   273"
      ]
     },
     "execution_count": 21,
     "metadata": {},
     "output_type": "execute_result"
    }
   ],
   "source": [
    "df['size'] = df['path'].apply(getSize)\n",
    "df.head()"
   ]
  },
  {
   "cell_type": "code",
   "execution_count": 23,
   "id": "58aac7cf",
   "metadata": {},
   "outputs": [
    {
     "data": {
      "text/html": [
       "<div>\n",
       "<style scoped>\n",
       "    .dataframe tbody tr th:only-of-type {\n",
       "        vertical-align: middle;\n",
       "    }\n",
       "\n",
       "    .dataframe tbody tr th {\n",
       "        vertical-align: top;\n",
       "    }\n",
       "\n",
       "    .dataframe thead th {\n",
       "        text-align: right;\n",
       "    }\n",
       "</style>\n",
       "<table border=\"1\" class=\"dataframe\">\n",
       "  <thead>\n",
       "    <tr style=\"text-align: right;\">\n",
       "      <th></th>\n",
       "      <th>path</th>\n",
       "      <th>size</th>\n",
       "    </tr>\n",
       "  </thead>\n",
       "  <tbody>\n",
       "    <tr>\n",
       "      <th>145</th>\n",
       "      <td>./data/crop/male_crop\\male_92.png</td>\n",
       "      <td>182</td>\n",
       "    </tr>\n",
       "    <tr>\n",
       "      <th>146</th>\n",
       "      <td>./data/crop/male_crop\\male_93.png</td>\n",
       "      <td>410</td>\n",
       "    </tr>\n",
       "    <tr>\n",
       "      <th>147</th>\n",
       "      <td>./data/crop/male_crop\\male_94.png</td>\n",
       "      <td>182</td>\n",
       "    </tr>\n",
       "    <tr>\n",
       "      <th>148</th>\n",
       "      <td>./data/crop/male_crop\\male_97.png</td>\n",
       "      <td>273</td>\n",
       "    </tr>\n",
       "    <tr>\n",
       "      <th>149</th>\n",
       "      <td>./data/crop/male_crop\\male_98.png</td>\n",
       "      <td>273</td>\n",
       "    </tr>\n",
       "  </tbody>\n",
       "</table>\n",
       "</div>"
      ],
      "text/plain": [
       "                                  path  size\n",
       "145  ./data/crop/male_crop\\male_92.png   182\n",
       "146  ./data/crop/male_crop\\male_93.png   410\n",
       "147  ./data/crop/male_crop\\male_94.png   182\n",
       "148  ./data/crop/male_crop\\male_97.png   273\n",
       "149  ./data/crop/male_crop\\male_98.png   273"
      ]
     },
     "execution_count": 23,
     "metadata": {},
     "output_type": "execute_result"
    }
   ],
   "source": [
    "df.tail()"
   ]
  },
  {
   "cell_type": "code",
   "execution_count": 24,
   "id": "de4c9939",
   "metadata": {},
   "outputs": [
    {
     "data": {
      "text/html": [
       "<div>\n",
       "<style scoped>\n",
       "    .dataframe tbody tr th:only-of-type {\n",
       "        vertical-align: middle;\n",
       "    }\n",
       "\n",
       "    .dataframe tbody tr th {\n",
       "        vertical-align: top;\n",
       "    }\n",
       "\n",
       "    .dataframe thead th {\n",
       "        text-align: right;\n",
       "    }\n",
       "</style>\n",
       "<table border=\"1\" class=\"dataframe\">\n",
       "  <thead>\n",
       "    <tr style=\"text-align: right;\">\n",
       "      <th></th>\n",
       "      <th>size</th>\n",
       "    </tr>\n",
       "  </thead>\n",
       "  <tbody>\n",
       "    <tr>\n",
       "      <th>count</th>\n",
       "      <td>150.000000</td>\n",
       "    </tr>\n",
       "    <tr>\n",
       "      <th>mean</th>\n",
       "      <td>240.620000</td>\n",
       "    </tr>\n",
       "    <tr>\n",
       "      <th>std</th>\n",
       "      <td>89.809842</td>\n",
       "    </tr>\n",
       "    <tr>\n",
       "      <th>min</th>\n",
       "      <td>54.000000</td>\n",
       "    </tr>\n",
       "    <tr>\n",
       "      <th>25%</th>\n",
       "      <td>182.000000</td>\n",
       "    </tr>\n",
       "    <tr>\n",
       "      <th>50%</th>\n",
       "      <td>273.000000</td>\n",
       "    </tr>\n",
       "    <tr>\n",
       "      <th>75%</th>\n",
       "      <td>273.000000</td>\n",
       "    </tr>\n",
       "    <tr>\n",
       "      <th>max</th>\n",
       "      <td>410.000000</td>\n",
       "    </tr>\n",
       "  </tbody>\n",
       "</table>\n",
       "</div>"
      ],
      "text/plain": [
       "             size\n",
       "count  150.000000\n",
       "mean   240.620000\n",
       "std     89.809842\n",
       "min     54.000000\n",
       "25%    182.000000\n",
       "50%    273.000000\n",
       "75%    273.000000\n",
       "max    410.000000"
      ]
     },
     "execution_count": 24,
     "metadata": {},
     "output_type": "execute_result"
    }
   ],
   "source": [
    "df.describe()"
   ]
  },
  {
   "cell_type": "code",
   "execution_count": 29,
   "id": "d943cad3",
   "metadata": {},
   "outputs": [
    {
     "data": {
      "text/plain": [
       "<AxesSubplot:>"
      ]
     },
     "execution_count": 29,
     "metadata": {},
     "output_type": "execute_result"
    },
    {
     "data": {
      "image/png": "[encoded data removed]",
      "text/plain": [
       "<Figure size 432x288 with 1 Axes>"
      ]
     },
     "metadata": {
      "needs_background": "light"
     },
     "output_type": "display_data"
    }
   ],
   "source": [
    "df['size'].plot()"
   ]
  },
  {
   "cell_type": "code",
   "execution_count": 36,
   "id": "56689cd5",
   "metadata": {},
   "outputs": [
    {
     "data": {
      "text/plain": [
       "<AxesSubplot:>"
      ]
     },
     "execution_count": 36,
     "metadata": {},
     "output_type": "execute_result"
    },
    {
     "data": {
      "image/png": "[encoded data removed]",
      "text/plain": [
       "<Figure size 432x288 with 1 Axes>"
      ]
     },
     "metadata": {
      "needs_background": "light"
     },
     "output_type": "display_data"
    }
   ],
   "source": [
    "df['size'].plot(kind='box')"
   ]
  },
  {
   "cell_type": "code",
   "execution_count": 40,
   "id": "57c69e76",
   "metadata": {},
   "outputs": [
    {
     "data": {
      "image/png": "[encoded data removed]",
      "text/plain": [
       "<Figure size 432x288 with 1 Axes>"
      ]
     },
     "metadata": {
      "needs_background": "light"
     },
     "output_type": "display_data"
    }
   ],
   "source": [
    "plt.hist(df['size'],bins=10)\n",
    "plt.show()"
   ]
  },
  {
   "cell_type": "code",
   "execution_count": 41,
   "id": "ca49d1f8",
   "metadata": {},
   "outputs": [
    {
     "data": {
      "image/png": "[encoded data removed]",
      "text/plain": [
       "<Figure size 432x288 with 1 Axes>"
      ]
     },
     "metadata": {
      "needs_background": "light"
     },
     "output_type": "display_data"
    }
   ],
   "source": [
    "plt.hist(df['size'],bins=30)\n",
    "plt.show()"
   ]
  },
  {
   "cell_type": "code",
   "execution_count": 42,
   "id": "a6db65d0",
   "metadata": {},
   "outputs": [
    {
     "data": {
      "text/html": [
       "<div>\n",
       "<style scoped>\n",
       "    .dataframe tbody tr th:only-of-type {\n",
       "        vertical-align: middle;\n",
       "    }\n",
       "\n",
       "    .dataframe tbody tr th {\n",
       "        vertical-align: top;\n",
       "    }\n",
       "\n",
       "    .dataframe thead th {\n",
       "        text-align: right;\n",
       "    }\n",
       "</style>\n",
       "<table border=\"1\" class=\"dataframe\">\n",
       "  <thead>\n",
       "    <tr style=\"text-align: right;\">\n",
       "      <th></th>\n",
       "      <th>path</th>\n",
       "      <th>size</th>\n",
       "    </tr>\n",
       "  </thead>\n",
       "  <tbody>\n",
       "    <tr>\n",
       "      <th>0</th>\n",
       "      <td>./data/crop/female_crop\\female_0.png</td>\n",
       "      <td>273</td>\n",
       "    </tr>\n",
       "    <tr>\n",
       "      <th>1</th>\n",
       "      <td>./data/crop/female_crop\\female_10.png</td>\n",
       "      <td>182</td>\n",
       "    </tr>\n",
       "    <tr>\n",
       "      <th>2</th>\n",
       "      <td>./data/crop/female_crop\\female_100.png</td>\n",
       "      <td>273</td>\n",
       "    </tr>\n",
       "    <tr>\n",
       "      <th>3</th>\n",
       "      <td>./data/crop/female_crop\\female_102.png</td>\n",
       "      <td>273</td>\n",
       "    </tr>\n",
       "    <tr>\n",
       "      <th>4</th>\n",
       "      <td>./data/crop/female_crop\\female_104.png</td>\n",
       "      <td>273</td>\n",
       "    </tr>\n",
       "    <tr>\n",
       "      <th>...</th>\n",
       "      <td>...</td>\n",
       "      <td>...</td>\n",
       "    </tr>\n",
       "    <tr>\n",
       "      <th>145</th>\n",
       "      <td>./data/crop/male_crop\\male_92.png</td>\n",
       "      <td>182</td>\n",
       "    </tr>\n",
       "    <tr>\n",
       "      <th>146</th>\n",
       "      <td>./data/crop/male_crop\\male_93.png</td>\n",
       "      <td>410</td>\n",
       "    </tr>\n",
       "    <tr>\n",
       "      <th>147</th>\n",
       "      <td>./data/crop/male_crop\\male_94.png</td>\n",
       "      <td>182</td>\n",
       "    </tr>\n",
       "    <tr>\n",
       "      <th>148</th>\n",
       "      <td>./data/crop/male_crop\\male_97.png</td>\n",
       "      <td>273</td>\n",
       "    </tr>\n",
       "    <tr>\n",
       "      <th>149</th>\n",
       "      <td>./data/crop/male_crop\\male_98.png</td>\n",
       "      <td>273</td>\n",
       "    </tr>\n",
       "  </tbody>\n",
       "</table>\n",
       "<p>150 rows × 2 columns</p>\n",
       "</div>"
      ],
      "text/plain": [
       "                                       path  size\n",
       "0      ./data/crop/female_crop\\female_0.png   273\n",
       "1     ./data/crop/female_crop\\female_10.png   182\n",
       "2    ./data/crop/female_crop\\female_100.png   273\n",
       "3    ./data/crop/female_crop\\female_102.png   273\n",
       "4    ./data/crop/female_crop\\female_104.png   273\n",
       "..                                      ...   ...\n",
       "145       ./data/crop/male_crop\\male_92.png   182\n",
       "146       ./data/crop/male_crop\\male_93.png   410\n",
       "147       ./data/crop/male_crop\\male_94.png   182\n",
       "148       ./data/crop/male_crop\\male_97.png   273\n",
       "149       ./data/crop/male_crop\\male_98.png   273\n",
       "\n",
       "[150 rows x 2 columns]"
      ]
     },
     "execution_count": 42,
     "metadata": {},
     "output_type": "execute_result"
    }
   ],
   "source": [
    "df"
   ]
  },
  {
   "cell_type": "code",
   "execution_count": 43,
   "id": "497416c7",
   "metadata": {},
   "outputs": [
    {
     "data": {
      "text/plain": [
       "0      True\n",
       "1      True\n",
       "2      True\n",
       "3      True\n",
       "4      True\n",
       "       ... \n",
       "145    True\n",
       "146    True\n",
       "147    True\n",
       "148    True\n",
       "149    True\n",
       "Name: size, Length: 150, dtype: bool"
      ]
     },
     "execution_count": 43,
     "metadata": {},
     "output_type": "execute_result"
    }
   ],
   "source": [
    "df['size'] > 60"
   ]
  },
  {
   "cell_type": "code",
   "execution_count": 44,
   "id": "d0377f6a",
   "metadata": {},
   "outputs": [
    {
     "data": {
      "text/plain": [
       "150"
      ]
     },
     "execution_count": 44,
     "metadata": {},
     "output_type": "execute_result"
    }
   ],
   "source": [
    "len(df['size'] > 60)"
   ]
  },
  {
   "cell_type": "code",
   "execution_count": 45,
   "id": "befab206",
   "metadata": {},
   "outputs": [],
   "source": [
    "df_new = df[df['size'] > 60]"
   ]
  },
  {
   "cell_type": "code",
   "execution_count": 46,
   "id": "47b7d05f",
   "metadata": {},
   "outputs": [
    {
     "data": {
      "text/html": [
       "<div>\n",
       "<style scoped>\n",
       "    .dataframe tbody tr th:only-of-type {\n",
       "        vertical-align: middle;\n",
       "    }\n",
       "\n",
       "    .dataframe tbody tr th {\n",
       "        vertical-align: top;\n",
       "    }\n",
       "\n",
       "    .dataframe thead th {\n",
       "        text-align: right;\n",
       "    }\n",
       "</style>\n",
       "<table border=\"1\" class=\"dataframe\">\n",
       "  <thead>\n",
       "    <tr style=\"text-align: right;\">\n",
       "      <th></th>\n",
       "      <th>path</th>\n",
       "      <th>size</th>\n",
       "    </tr>\n",
       "  </thead>\n",
       "  <tbody>\n",
       "    <tr>\n",
       "      <th>0</th>\n",
       "      <td>./data/crop/female_crop\\female_0.png</td>\n",
       "      <td>273</td>\n",
       "    </tr>\n",
       "    <tr>\n",
       "      <th>1</th>\n",
       "      <td>./data/crop/female_crop\\female_10.png</td>\n",
       "      <td>182</td>\n",
       "    </tr>\n",
       "    <tr>\n",
       "      <th>2</th>\n",
       "      <td>./data/crop/female_crop\\female_100.png</td>\n",
       "      <td>273</td>\n",
       "    </tr>\n",
       "    <tr>\n",
       "      <th>3</th>\n",
       "      <td>./data/crop/female_crop\\female_102.png</td>\n",
       "      <td>273</td>\n",
       "    </tr>\n",
       "    <tr>\n",
       "      <th>4</th>\n",
       "      <td>./data/crop/female_crop\\female_104.png</td>\n",
       "      <td>273</td>\n",
       "    </tr>\n",
       "    <tr>\n",
       "      <th>...</th>\n",
       "      <td>...</td>\n",
       "      <td>...</td>\n",
       "    </tr>\n",
       "    <tr>\n",
       "      <th>145</th>\n",
       "      <td>./data/crop/male_crop\\male_92.png</td>\n",
       "      <td>182</td>\n",
       "    </tr>\n",
       "    <tr>\n",
       "      <th>146</th>\n",
       "      <td>./data/crop/male_crop\\male_93.png</td>\n",
       "      <td>410</td>\n",
       "    </tr>\n",
       "    <tr>\n",
       "      <th>147</th>\n",
       "      <td>./data/crop/male_crop\\male_94.png</td>\n",
       "      <td>182</td>\n",
       "    </tr>\n",
       "    <tr>\n",
       "      <th>148</th>\n",
       "      <td>./data/crop/male_crop\\male_97.png</td>\n",
       "      <td>273</td>\n",
       "    </tr>\n",
       "    <tr>\n",
       "      <th>149</th>\n",
       "      <td>./data/crop/male_crop\\male_98.png</td>\n",
       "      <td>273</td>\n",
       "    </tr>\n",
       "  </tbody>\n",
       "</table>\n",
       "<p>149 rows × 2 columns</p>\n",
       "</div>"
      ],
      "text/plain": [
       "                                       path  size\n",
       "0      ./data/crop/female_crop\\female_0.png   273\n",
       "1     ./data/crop/female_crop\\female_10.png   182\n",
       "2    ./data/crop/female_crop\\female_100.png   273\n",
       "3    ./data/crop/female_crop\\female_102.png   273\n",
       "4    ./data/crop/female_crop\\female_104.png   273\n",
       "..                                      ...   ...\n",
       "145       ./data/crop/male_crop\\male_92.png   182\n",
       "146       ./data/crop/male_crop\\male_93.png   410\n",
       "147       ./data/crop/male_crop\\male_94.png   182\n",
       "148       ./data/crop/male_crop\\male_97.png   273\n",
       "149       ./data/crop/male_crop\\male_98.png   273\n",
       "\n",
       "[149 rows x 2 columns]"
      ]
     },
     "execution_count": 46,
     "metadata": {},
     "output_type": "execute_result"
    }
   ],
   "source": [
    "df_new"
   ]
  },
  {
   "cell_type": "code",
   "execution_count": 47,
   "id": "d9962915",
   "metadata": {},
   "outputs": [
    {
     "data": {
      "text/plain": [
       "'./data/crop/female_crop\\\\female_0.png'"
      ]
     },
     "execution_count": 47,
     "metadata": {},
     "output_type": "execute_result"
    }
   ],
   "source": [
    "df_new['path'][0]"
   ]
  },
  {
   "cell_type": "code",
   "execution_count": 48,
   "id": "eb5ab7b0",
   "metadata": {},
   "outputs": [
    {
     "data": {
      "text/plain": [
       "['./data/crop/female', 'crop\\\\female', '0.png']"
      ]
     },
     "execution_count": 48,
     "metadata": {},
     "output_type": "execute_result"
    }
   ],
   "source": [
    "string = df_new['path'][0]\n",
    "string.split('_')"
   ]
  },
  {
   "cell_type": "code",
   "execution_count": 51,
   "id": "0f52a5aa",
   "metadata": {},
   "outputs": [
    {
     "data": {
      "text/plain": [
       "'female'"
      ]
     },
     "execution_count": 51,
     "metadata": {},
     "output_type": "execute_result"
    }
   ],
   "source": [
    "string = df_new['path'][0]\n",
    "string.split('_')[0].split('/')[-1]"
   ]
  },
  {
   "cell_type": "code",
   "execution_count": 50,
   "id": "3620e4ef",
   "metadata": {},
   "outputs": [
    {
     "data": {
      "text/plain": [
       "['.', 'data', 'crop', 'female']"
      ]
     },
     "execution_count": 50,
     "metadata": {},
     "output_type": "execute_result"
    }
   ],
   "source": [
    "string = df_new['path'][0]\n",
    "string.split('_')[0].split('/')"
   ]
  },
  {
   "cell_type": "code",
   "execution_count": 53,
   "id": "e9e392d0",
   "metadata": {},
   "outputs": [],
   "source": [
    "string = df_new['path'][0]\n",
    "def gender(string):\n",
    "    try:\n",
    "        return string.split('_')[0].split('/')[-1]\n",
    "    except:\n",
    "        return None"
   ]
  },
  {
   "cell_type": "code",
   "execution_count": 54,
   "id": "d1e6fb71",
   "metadata": {},
   "outputs": [
    {
     "data": {
      "text/html": [
       "<div>\n",
       "<style scoped>\n",
       "    .dataframe tbody tr th:only-of-type {\n",
       "        vertical-align: middle;\n",
       "    }\n",
       "\n",
       "    .dataframe tbody tr th {\n",
       "        vertical-align: top;\n",
       "    }\n",
       "\n",
       "    .dataframe thead th {\n",
       "        text-align: right;\n",
       "    }\n",
       "</style>\n",
       "<table border=\"1\" class=\"dataframe\">\n",
       "  <thead>\n",
       "    <tr style=\"text-align: right;\">\n",
       "      <th></th>\n",
       "      <th>path</th>\n",
       "      <th>size</th>\n",
       "    </tr>\n",
       "  </thead>\n",
       "  <tbody>\n",
       "    <tr>\n",
       "      <th>0</th>\n",
       "      <td>./data/crop/female_crop\\female_0.png</td>\n",
       "      <td>273</td>\n",
       "    </tr>\n",
       "    <tr>\n",
       "      <th>1</th>\n",
       "      <td>./data/crop/female_crop\\female_10.png</td>\n",
       "      <td>182</td>\n",
       "    </tr>\n",
       "    <tr>\n",
       "      <th>2</th>\n",
       "      <td>./data/crop/female_crop\\female_100.png</td>\n",
       "      <td>273</td>\n",
       "    </tr>\n",
       "    <tr>\n",
       "      <th>3</th>\n",
       "      <td>./data/crop/female_crop\\female_102.png</td>\n",
       "      <td>273</td>\n",
       "    </tr>\n",
       "    <tr>\n",
       "      <th>4</th>\n",
       "      <td>./data/crop/female_crop\\female_104.png</td>\n",
       "      <td>273</td>\n",
       "    </tr>\n",
       "    <tr>\n",
       "      <th>...</th>\n",
       "      <td>...</td>\n",
       "      <td>...</td>\n",
       "    </tr>\n",
       "    <tr>\n",
       "      <th>145</th>\n",
       "      <td>./data/crop/male_crop\\male_92.png</td>\n",
       "      <td>182</td>\n",
       "    </tr>\n",
       "    <tr>\n",
       "      <th>146</th>\n",
       "      <td>./data/crop/male_crop\\male_93.png</td>\n",
       "      <td>410</td>\n",
       "    </tr>\n",
       "    <tr>\n",
       "      <th>147</th>\n",
       "      <td>./data/crop/male_crop\\male_94.png</td>\n",
       "      <td>182</td>\n",
       "    </tr>\n",
       "    <tr>\n",
       "      <th>148</th>\n",
       "      <td>./data/crop/male_crop\\male_97.png</td>\n",
       "      <td>273</td>\n",
       "    </tr>\n",
       "    <tr>\n",
       "      <th>149</th>\n",
       "      <td>./data/crop/male_crop\\male_98.png</td>\n",
       "      <td>273</td>\n",
       "    </tr>\n",
       "  </tbody>\n",
       "</table>\n",
       "<p>150 rows × 2 columns</p>\n",
       "</div>"
      ],
      "text/plain": [
       "                                       path  size\n",
       "0      ./data/crop/female_crop\\female_0.png   273\n",
       "1     ./data/crop/female_crop\\female_10.png   182\n",
       "2    ./data/crop/female_crop\\female_100.png   273\n",
       "3    ./data/crop/female_crop\\female_102.png   273\n",
       "4    ./data/crop/female_crop\\female_104.png   273\n",
       "..                                      ...   ...\n",
       "145       ./data/crop/male_crop\\male_92.png   182\n",
       "146       ./data/crop/male_crop\\male_93.png   410\n",
       "147       ./data/crop/male_crop\\male_94.png   182\n",
       "148       ./data/crop/male_crop\\male_97.png   273\n",
       "149       ./data/crop/male_crop\\male_98.png   273\n",
       "\n",
       "[150 rows x 2 columns]"
      ]
     },
     "execution_count": 54,
     "metadata": {},
     "output_type": "execute_result"
    }
   ],
   "source": [
    "df"
   ]
  },
  {
   "cell_type": "code",
   "execution_count": 55,
   "id": "f6b58c19",
   "metadata": {},
   "outputs": [],
   "source": [
    "df['gender'] = df['path'].apply(gender)"
   ]
  },
  {
   "cell_type": "code",
   "execution_count": 56,
   "id": "19f174ad",
   "metadata": {},
   "outputs": [
    {
     "data": {
      "text/plain": [
       "female    82\n",
       "male      68\n",
       "Name: gender, dtype: int64"
      ]
     },
     "execution_count": 56,
     "metadata": {},
     "output_type": "execute_result"
    }
   ],
   "source": [
    "df['gender'].value_counts()"
   ]
  },
  {
   "cell_type": "code",
   "execution_count": 57,
   "id": "76c803d2",
   "metadata": {},
   "outputs": [
    {
     "data": {
      "text/plain": [
       "<AxesSubplot:ylabel='gender'>"
      ]
     },
     "execution_count": 57,
     "metadata": {},
     "output_type": "execute_result"
    },
    {
     "data": {
      "image/png": "[encoded data removed]",
      "text/plain": [
       "<Figure size 432x288 with 1 Axes>"
      ]
     },
     "metadata": {},
     "output_type": "display_data"
    }
   ],
   "source": [
    "df['gender'].value_counts().plot(kind='pie')"
   ]
  },
  {
   "cell_type": "code",
   "execution_count": 60,
   "id": "3d2870c1",
   "metadata": {},
   "outputs": [
    {
     "data": {
      "text/plain": [
       "<AxesSubplot:ylabel='gender'>"
      ]
     },
     "execution_count": 60,
     "metadata": {},
     "output_type": "execute_result"
    },
    {
     "data": {
      "image/png": "[encoded data removed]",
      "text/plain": [
       "<Figure size 432x288 with 1 Axes>"
      ]
     },
     "metadata": {},
     "output_type": "display_data"
    }
   ],
   "source": [
    "df['gender'].value_counts(normalize=True).plot(kind='pie')"
   ]
  },
  {
   "cell_type": "code",
   "execution_count": 61,
   "id": "6b0812b8",
   "metadata": {},
   "outputs": [
    {
     "data": {
      "text/plain": [
       "female    0.546667\n",
       "male      0.453333\n",
       "Name: gender, dtype: float64"
      ]
     },
     "execution_count": 61,
     "metadata": {},
     "output_type": "execute_result"
    }
   ],
   "source": [
    "df['gender'].value_counts(normalize=True)"
   ]
  },
  {
   "cell_type": "code",
   "execution_count": 62,
   "id": "5aa81e30",
   "metadata": {},
   "outputs": [
    {
     "name": "stdout",
     "output_type": "stream",
     "text": [
      "female    0.546667\n",
      "male      0.453333\n",
      "Name: gender, dtype: float64\n"
     ]
    },
    {
     "data": {
      "text/plain": [
       "<AxesSubplot:>"
      ]
     },
     "execution_count": 62,
     "metadata": {},
     "output_type": "execute_result"
    },
    {
     "data": {
      "image/png": "[encoded data removed]",
      "text/plain": [
       "<Figure size 432x288 with 1 Axes>"
      ]
     },
     "metadata": {
      "needs_background": "light"
     },
     "output_type": "display_data"
    }
   ],
   "source": [
    "print(df['gender'].value_counts(normalize=True))\n",
    "df['gender'].value_counts(normalize=True).plot(kind='bar')"
   ]
  },
  {
   "cell_type": "code",
   "execution_count": 63,
   "id": "e23f7fb8",
   "metadata": {},
   "outputs": [
    {
     "data": {
      "text/plain": [
       "81"
      ]
     },
     "execution_count": 63,
     "metadata": {},
     "output_type": "execute_result"
    }
   ],
   "source": [
    "df_new['size'].min()"
   ]
  },
  {
   "cell_type": "code",
   "execution_count": 65,
   "id": "b5312f4f",
   "metadata": {},
   "outputs": [
    {
     "data": {
      "text/html": [
       "<div>\n",
       "<style scoped>\n",
       "    .dataframe tbody tr th:only-of-type {\n",
       "        vertical-align: middle;\n",
       "    }\n",
       "\n",
       "    .dataframe tbody tr th {\n",
       "        vertical-align: top;\n",
       "    }\n",
       "\n",
       "    .dataframe thead th {\n",
       "        text-align: right;\n",
       "    }\n",
       "</style>\n",
       "<table border=\"1\" class=\"dataframe\">\n",
       "  <thead>\n",
       "    <tr style=\"text-align: right;\">\n",
       "      <th></th>\n",
       "      <th>path</th>\n",
       "      <th>size</th>\n",
       "      <th>gender</th>\n",
       "    </tr>\n",
       "  </thead>\n",
       "  <tbody>\n",
       "    <tr>\n",
       "      <th>0</th>\n",
       "      <td>./data/crop/female_crop\\female_0.png</td>\n",
       "      <td>273</td>\n",
       "      <td>female</td>\n",
       "    </tr>\n",
       "    <tr>\n",
       "      <th>1</th>\n",
       "      <td>./data/crop/female_crop\\female_10.png</td>\n",
       "      <td>182</td>\n",
       "      <td>female</td>\n",
       "    </tr>\n",
       "    <tr>\n",
       "      <th>2</th>\n",
       "      <td>./data/crop/female_crop\\female_100.png</td>\n",
       "      <td>273</td>\n",
       "      <td>female</td>\n",
       "    </tr>\n",
       "    <tr>\n",
       "      <th>3</th>\n",
       "      <td>./data/crop/female_crop\\female_102.png</td>\n",
       "      <td>273</td>\n",
       "      <td>female</td>\n",
       "    </tr>\n",
       "    <tr>\n",
       "      <th>4</th>\n",
       "      <td>./data/crop/female_crop\\female_104.png</td>\n",
       "      <td>273</td>\n",
       "      <td>female</td>\n",
       "    </tr>\n",
       "    <tr>\n",
       "      <th>...</th>\n",
       "      <td>...</td>\n",
       "      <td>...</td>\n",
       "      <td>...</td>\n",
       "    </tr>\n",
       "    <tr>\n",
       "      <th>145</th>\n",
       "      <td>./data/crop/male_crop\\male_92.png</td>\n",
       "      <td>182</td>\n",
       "      <td>male</td>\n",
       "    </tr>\n",
       "    <tr>\n",
       "      <th>146</th>\n",
       "      <td>./data/crop/male_crop\\male_93.png</td>\n",
       "      <td>410</td>\n",
       "      <td>male</td>\n",
       "    </tr>\n",
       "    <tr>\n",
       "      <th>147</th>\n",
       "      <td>./data/crop/male_crop\\male_94.png</td>\n",
       "      <td>182</td>\n",
       "      <td>male</td>\n",
       "    </tr>\n",
       "    <tr>\n",
       "      <th>148</th>\n",
       "      <td>./data/crop/male_crop\\male_97.png</td>\n",
       "      <td>273</td>\n",
       "      <td>male</td>\n",
       "    </tr>\n",
       "    <tr>\n",
       "      <th>149</th>\n",
       "      <td>./data/crop/male_crop\\male_98.png</td>\n",
       "      <td>273</td>\n",
       "      <td>male</td>\n",
       "    </tr>\n",
       "  </tbody>\n",
       "</table>\n",
       "<p>150 rows × 3 columns</p>\n",
       "</div>"
      ],
      "text/plain": [
       "                                       path  size  gender\n",
       "0      ./data/crop/female_crop\\female_0.png   273  female\n",
       "1     ./data/crop/female_crop\\female_10.png   182  female\n",
       "2    ./data/crop/female_crop\\female_100.png   273  female\n",
       "3    ./data/crop/female_crop\\female_102.png   273  female\n",
       "4    ./data/crop/female_crop\\female_104.png   273  female\n",
       "..                                      ...   ...     ...\n",
       "145       ./data/crop/male_crop\\male_92.png   182    male\n",
       "146       ./data/crop/male_crop\\male_93.png   410    male\n",
       "147       ./data/crop/male_crop\\male_94.png   182    male\n",
       "148       ./data/crop/male_crop\\male_97.png   273    male\n",
       "149       ./data/crop/male_crop\\male_98.png   273    male\n",
       "\n",
       "[150 rows x 3 columns]"
      ]
     },
     "execution_count": 65,
     "metadata": {},
     "output_type": "execute_result"
    }
   ],
   "source": [
    "## Resize image\n",
    "df"
   ]
  },
  {
   "cell_type": "code",
   "execution_count": 66,
   "id": "7b078d6c",
   "metadata": {},
   "outputs": [
    {
     "data": {
      "text/html": [
       "<div>\n",
       "<style scoped>\n",
       "    .dataframe tbody tr th:only-of-type {\n",
       "        vertical-align: middle;\n",
       "    }\n",
       "\n",
       "    .dataframe tbody tr th {\n",
       "        vertical-align: top;\n",
       "    }\n",
       "\n",
       "    .dataframe thead th {\n",
       "        text-align: right;\n",
       "    }\n",
       "</style>\n",
       "<table border=\"1\" class=\"dataframe\">\n",
       "  <thead>\n",
       "    <tr style=\"text-align: right;\">\n",
       "      <th></th>\n",
       "      <th>path</th>\n",
       "      <th>size</th>\n",
       "      <th>gender</th>\n",
       "    </tr>\n",
       "  </thead>\n",
       "  <tbody>\n",
       "    <tr>\n",
       "      <th>0</th>\n",
       "      <td>./data/crop/female_crop\\female_0.png</td>\n",
       "      <td>273</td>\n",
       "      <td>female</td>\n",
       "    </tr>\n",
       "    <tr>\n",
       "      <th>1</th>\n",
       "      <td>./data/crop/female_crop\\female_10.png</td>\n",
       "      <td>182</td>\n",
       "      <td>female</td>\n",
       "    </tr>\n",
       "  </tbody>\n",
       "</table>\n",
       "</div>"
      ],
      "text/plain": [
       "                                    path  size  gender\n",
       "0   ./data/crop/female_crop\\female_0.png   273  female\n",
       "1  ./data/crop/female_crop\\female_10.png   182  female"
      ]
     },
     "execution_count": 66,
     "metadata": {},
     "output_type": "execute_result"
    }
   ],
   "source": [
    "df.head(2)"
   ]
  },
  {
   "cell_type": "code",
   "execution_count": 67,
   "id": "5e8d1736",
   "metadata": {},
   "outputs": [
    {
     "data": {
      "text/plain": [
       "'./data/crop/female_crop\\\\female_0.png'"
      ]
     },
     "execution_count": 67,
     "metadata": {},
     "output_type": "execute_result"
    }
   ],
   "source": [
    "df['path'][0]"
   ]
  },
  {
   "cell_type": "code",
   "execution_count": 71,
   "id": "6c006802",
   "metadata": {},
   "outputs": [],
   "source": [
    "path_to_resize = df['path'][0]\n",
    "# step - 1:read image\n",
    "img = cv2.imread(path_to_resize)\n",
    "# step - 2:convert into grayscale\n",
    "gray = cv2.cvtColor(img,cv2.COLOR_BGR2GRAY)\n",
    "# step - 3:resize into 100 x 100 array\n",
    "size = gray.shape[0]\n",
    "if size >= 100: #shrink\n",
    "    gray_re = cv2.resize(gray,(100,100),cv2.INTER_AREA) # SHRINK\n",
    "else: # enlarge\n",
    "    gray_re = cv2.resize(gray,(100,100),cv2.INTER_CUBIC) # ENLARGE\n",
    "# step - 4:Flatten Image (1x10,000)\n",
    "flat_img = gray_re"
   ]
  },
  {
   "cell_type": "code",
   "execution_count": 72,
   "id": "5c4f35cb",
   "metadata": {},
   "outputs": [
    {
     "data": {
      "text/plain": [
       "<matplotlib.image.AxesImage at 0xa08b7d8>"
      ]
     },
     "execution_count": 72,
     "metadata": {},
     "output_type": "execute_result"
    },
    {
     "data": {
      "image/png": "[encoded data removed]",
      "text/plain": [
       "<Figure size 432x288 with 1 Axes>"
      ]
     },
     "metadata": {
      "needs_background": "light"
     },
     "output_type": "display_data"
    }
   ],
   "source": [
    "plt.imshow(gray_re)"
   ]
  },
  {
   "cell_type": "code",
   "execution_count": 73,
   "id": "1a94fbaa",
   "metadata": {},
   "outputs": [
    {
     "data": {
      "text/plain": [
       "<matplotlib.image.AxesImage at 0xa0c15b0>"
      ]
     },
     "execution_count": 73,
     "metadata": {},
     "output_type": "execute_result"
    },
    {
     "data": {
      "image/png": "[encoded data removed]",
      "text/plain": [
       "<Figure size 432x288 with 1 Axes>"
      ]
     },
     "metadata": {
      "needs_background": "light"
     },
     "output_type": "display_data"
    }
   ],
   "source": [
    "plt.imshow(gray_re,cmap='gray')"
   ]
  },
  {
   "cell_type": "code",
   "execution_count": 79,
   "id": "65e551fe",
   "metadata": {},
   "outputs": [],
   "source": [
    "def resize_img(path_to_resize):    \n",
    "    try:\n",
    "        # step - 1:read image\n",
    "        img = cv2.imread(path_to_resize)\n",
    "        # step - 2:convert into grayscale\n",
    "        gray = cv2.cvtColor(img,cv2.COLOR_BGR2GRAY)\n",
    "        # step - 3:resize into 100 x 100 array\n",
    "        size = gray.shape[0]\n",
    "        if size >= 100: #shrink\n",
    "            gray_re = cv2.resize(gray,(100,100),cv2.INTER_AREA) # SHRINK\n",
    "        else: # enlarge\n",
    "            gray_re = cv2.resize(gray,(100,100),cv2.INTER_CUBIC) # ENLARGE\n",
    "        # step - 4:Flatten Image (1x10,000)\n",
    "        return gray_re.flatten()\n",
    "    except:\n",
    "        return None"
   ]
  },
  {
   "cell_type": "code",
   "execution_count": 82,
   "id": "24f38756",
   "metadata": {},
   "outputs": [
    {
     "data": {
      "text/plain": [
       "array([32, 32, 32, ..., 17, 16, 11], dtype=uint8)"
      ]
     },
     "execution_count": 82,
     "metadata": {},
     "output_type": "execute_result"
    }
   ],
   "source": [
    "resize_img(path[0])"
   ]
  },
  {
   "cell_type": "code",
   "execution_count": 83,
   "id": "3091bd5b",
   "metadata": {},
   "outputs": [
    {
     "data": {
      "text/plain": [
       "10000"
      ]
     },
     "execution_count": 83,
     "metadata": {},
     "output_type": "execute_result"
    }
   ],
   "source": [
    "len(resize_img(path[0]))"
   ]
  },
  {
   "cell_type": "code",
   "execution_count": 84,
   "id": "ae25c8da",
   "metadata": {},
   "outputs": [
    {
     "data": {
      "text/html": [
       "<div>\n",
       "<style scoped>\n",
       "    .dataframe tbody tr th:only-of-type {\n",
       "        vertical-align: middle;\n",
       "    }\n",
       "\n",
       "    .dataframe tbody tr th {\n",
       "        vertical-align: top;\n",
       "    }\n",
       "\n",
       "    .dataframe thead th {\n",
       "        text-align: right;\n",
       "    }\n",
       "</style>\n",
       "<table border=\"1\" class=\"dataframe\">\n",
       "  <thead>\n",
       "    <tr style=\"text-align: right;\">\n",
       "      <th></th>\n",
       "      <th>path</th>\n",
       "      <th>size</th>\n",
       "      <th>gender</th>\n",
       "      <th>structure_data</th>\n",
       "    </tr>\n",
       "  </thead>\n",
       "  <tbody>\n",
       "    <tr>\n",
       "      <th>0</th>\n",
       "      <td>./data/crop/female_crop\\female_0.png</td>\n",
       "      <td>273</td>\n",
       "      <td>female</td>\n",
       "      <td>[32, 32, 32, 32, 32, 32, 32, 32, 29, 19, 15, 1...</td>\n",
       "    </tr>\n",
       "    <tr>\n",
       "      <th>1</th>\n",
       "      <td>./data/crop/female_crop\\female_10.png</td>\n",
       "      <td>182</td>\n",
       "      <td>female</td>\n",
       "      <td>[250, 250, 250, 250, 250, 249, 247, 241, 193, ...</td>\n",
       "    </tr>\n",
       "    <tr>\n",
       "      <th>2</th>\n",
       "      <td>./data/crop/female_crop\\female_100.png</td>\n",
       "      <td>273</td>\n",
       "      <td>female</td>\n",
       "      <td>[161, 161, 162, 161, 158, 158, 133, 131, 88, 1...</td>\n",
       "    </tr>\n",
       "    <tr>\n",
       "      <th>3</th>\n",
       "      <td>./data/crop/female_crop\\female_102.png</td>\n",
       "      <td>273</td>\n",
       "      <td>female</td>\n",
       "      <td>[95, 94, 96, 93, 91, 97, 98, 69, 25, 24, 16, 2...</td>\n",
       "    </tr>\n",
       "    <tr>\n",
       "      <th>4</th>\n",
       "      <td>./data/crop/female_crop\\female_104.png</td>\n",
       "      <td>273</td>\n",
       "      <td>female</td>\n",
       "      <td>[36, 30, 32, 31, 43, 11, 7, 47, 30, 37, 36, 65...</td>\n",
       "    </tr>\n",
       "    <tr>\n",
       "      <th>...</th>\n",
       "      <td>...</td>\n",
       "      <td>...</td>\n",
       "      <td>...</td>\n",
       "      <td>...</td>\n",
       "    </tr>\n",
       "    <tr>\n",
       "      <th>145</th>\n",
       "      <td>./data/crop/male_crop\\male_92.png</td>\n",
       "      <td>182</td>\n",
       "      <td>male</td>\n",
       "      <td>[73, 95, 108, 102, 97, 82, 78, 86, 89, 132, 10...</td>\n",
       "    </tr>\n",
       "    <tr>\n",
       "      <th>146</th>\n",
       "      <td>./data/crop/male_crop\\male_93.png</td>\n",
       "      <td>410</td>\n",
       "      <td>male</td>\n",
       "      <td>[178, 179, 179, 180, 181, 182, 181, 183, 183, ...</td>\n",
       "    </tr>\n",
       "    <tr>\n",
       "      <th>147</th>\n",
       "      <td>./data/crop/male_crop\\male_94.png</td>\n",
       "      <td>182</td>\n",
       "      <td>male</td>\n",
       "      <td>[124, 87, 79, 66, 48, 39, 32, 31, 44, 30, 28, ...</td>\n",
       "    </tr>\n",
       "    <tr>\n",
       "      <th>148</th>\n",
       "      <td>./data/crop/male_crop\\male_97.png</td>\n",
       "      <td>273</td>\n",
       "      <td>male</td>\n",
       "      <td>[158, 147, 149, 168, 159, 151, 148, 132, 112, ...</td>\n",
       "    </tr>\n",
       "    <tr>\n",
       "      <th>149</th>\n",
       "      <td>./data/crop/male_crop\\male_98.png</td>\n",
       "      <td>273</td>\n",
       "      <td>male</td>\n",
       "      <td>[32, 36, 31, 20, 38, 51, 46, 52, 40, 26, 26, 3...</td>\n",
       "    </tr>\n",
       "  </tbody>\n",
       "</table>\n",
       "<p>149 rows × 4 columns</p>\n",
       "</div>"
      ],
      "text/plain": [
       "                                       path  size  gender  \\\n",
       "0      ./data/crop/female_crop\\female_0.png   273  female   \n",
       "1     ./data/crop/female_crop\\female_10.png   182  female   \n",
       "2    ./data/crop/female_crop\\female_100.png   273  female   \n",
       "3    ./data/crop/female_crop\\female_102.png   273  female   \n",
       "4    ./data/crop/female_crop\\female_104.png   273  female   \n",
       "..                                      ...   ...     ...   \n",
       "145       ./data/crop/male_crop\\male_92.png   182    male   \n",
       "146       ./data/crop/male_crop\\male_93.png   410    male   \n",
       "147       ./data/crop/male_crop\\male_94.png   182    male   \n",
       "148       ./data/crop/male_crop\\male_97.png   273    male   \n",
       "149       ./data/crop/male_crop\\male_98.png   273    male   \n",
       "\n",
       "                                        structure_data  \n",
       "0    [32, 32, 32, 32, 32, 32, 32, 32, 29, 19, 15, 1...  \n",
       "1    [250, 250, 250, 250, 250, 249, 247, 241, 193, ...  \n",
       "2    [161, 161, 162, 161, 158, 158, 133, 131, 88, 1...  \n",
       "3    [95, 94, 96, 93, 91, 97, 98, 69, 25, 24, 16, 2...  \n",
       "4    [36, 30, 32, 31, 43, 11, 7, 47, 30, 37, 36, 65...  \n",
       "..                                                 ...  \n",
       "145  [73, 95, 108, 102, 97, 82, 78, 86, 89, 132, 10...  \n",
       "146  [178, 179, 179, 180, 181, 182, 181, 183, 183, ...  \n",
       "147  [124, 87, 79, 66, 48, 39, 32, 31, 44, 30, 28, ...  \n",
       "148  [158, 147, 149, 168, 159, 151, 148, 132, 112, ...  \n",
       "149  [32, 36, 31, 20, 38, 51, 46, 52, 40, 26, 26, 3...  \n",
       "\n",
       "[149 rows x 4 columns]"
      ]
     },
     "execution_count": 84,
     "metadata": {},
     "output_type": "execute_result"
    }
   ],
   "source": [
    "df_new"
   ]
  },
  {
   "cell_type": "code",
   "execution_count": 85,
   "id": "6a34ea0b",
   "metadata": {},
   "outputs": [
    {
     "name": "stderr",
     "output_type": "stream",
     "text": [
      "<ipython-input-85-38f68fd0a050>:1: SettingWithCopyWarning: \n",
      "A value is trying to be set on a copy of a slice from a DataFrame.\n",
      "Try using .loc[row_indexer,col_indexer] = value instead\n",
      "\n",
      "See the caveats in the documentation: https://pandas.pydata.org/pandas-docs/stable/user_guide/indexing.html#returning-a-view-versus-a-copy\n",
      "  df_new['gender'] = df_new['path'].apply(gender)\n"
     ]
    },
    {
     "data": {
      "text/html": [
       "<div>\n",
       "<style scoped>\n",
       "    .dataframe tbody tr th:only-of-type {\n",
       "        vertical-align: middle;\n",
       "    }\n",
       "\n",
       "    .dataframe tbody tr th {\n",
       "        vertical-align: top;\n",
       "    }\n",
       "\n",
       "    .dataframe thead th {\n",
       "        text-align: right;\n",
       "    }\n",
       "</style>\n",
       "<table border=\"1\" class=\"dataframe\">\n",
       "  <thead>\n",
       "    <tr style=\"text-align: right;\">\n",
       "      <th></th>\n",
       "      <th>path</th>\n",
       "      <th>size</th>\n",
       "      <th>gender</th>\n",
       "      <th>structure_data</th>\n",
       "    </tr>\n",
       "  </thead>\n",
       "  <tbody>\n",
       "    <tr>\n",
       "      <th>0</th>\n",
       "      <td>./data/crop/female_crop\\female_0.png</td>\n",
       "      <td>273</td>\n",
       "      <td>female</td>\n",
       "      <td>[32, 32, 32, 32, 32, 32, 32, 32, 29, 19, 15, 1...</td>\n",
       "    </tr>\n",
       "    <tr>\n",
       "      <th>1</th>\n",
       "      <td>./data/crop/female_crop\\female_10.png</td>\n",
       "      <td>182</td>\n",
       "      <td>female</td>\n",
       "      <td>[250, 250, 250, 250, 250, 249, 247, 241, 193, ...</td>\n",
       "    </tr>\n",
       "    <tr>\n",
       "      <th>2</th>\n",
       "      <td>./data/crop/female_crop\\female_100.png</td>\n",
       "      <td>273</td>\n",
       "      <td>female</td>\n",
       "      <td>[161, 161, 162, 161, 158, 158, 133, 131, 88, 1...</td>\n",
       "    </tr>\n",
       "    <tr>\n",
       "      <th>3</th>\n",
       "      <td>./data/crop/female_crop\\female_102.png</td>\n",
       "      <td>273</td>\n",
       "      <td>female</td>\n",
       "      <td>[95, 94, 96, 93, 91, 97, 98, 69, 25, 24, 16, 2...</td>\n",
       "    </tr>\n",
       "    <tr>\n",
       "      <th>4</th>\n",
       "      <td>./data/crop/female_crop\\female_104.png</td>\n",
       "      <td>273</td>\n",
       "      <td>female</td>\n",
       "      <td>[36, 30, 32, 31, 43, 11, 7, 47, 30, 37, 36, 65...</td>\n",
       "    </tr>\n",
       "  </tbody>\n",
       "</table>\n",
       "</div>"
      ],
      "text/plain": [
       "                                     path  size  gender  \\\n",
       "0    ./data/crop/female_crop\\female_0.png   273  female   \n",
       "1   ./data/crop/female_crop\\female_10.png   182  female   \n",
       "2  ./data/crop/female_crop\\female_100.png   273  female   \n",
       "3  ./data/crop/female_crop\\female_102.png   273  female   \n",
       "4  ./data/crop/female_crop\\female_104.png   273  female   \n",
       "\n",
       "                                      structure_data  \n",
       "0  [32, 32, 32, 32, 32, 32, 32, 32, 29, 19, 15, 1...  \n",
       "1  [250, 250, 250, 250, 250, 249, 247, 241, 193, ...  \n",
       "2  [161, 161, 162, 161, 158, 158, 133, 131, 88, 1...  \n",
       "3  [95, 94, 96, 93, 91, 97, 98, 69, 25, 24, 16, 2...  \n",
       "4  [36, 30, 32, 31, 43, 11, 7, 47, 30, 37, 36, 65...  "
      ]
     },
     "execution_count": 85,
     "metadata": {},
     "output_type": "execute_result"
    }
   ],
   "source": [
    "df_new['gender'] = df_new['path'].apply(gender)\n",
    "df_new.head()"
   ]
  },
  {
   "cell_type": "code",
   "execution_count": 86,
   "id": "1c5f1973",
   "metadata": {},
   "outputs": [
    {
     "name": "stderr",
     "output_type": "stream",
     "text": [
      "<ipython-input-86-616f1b7164b8>:2: SettingWithCopyWarning: \n",
      "A value is trying to be set on a copy of a slice from a DataFrame.\n",
      "Try using .loc[row_indexer,col_indexer] = value instead\n",
      "\n",
      "See the caveats in the documentation: https://pandas.pydata.org/pandas-docs/stable/user_guide/indexing.html#returning-a-view-versus-a-copy\n",
      "  df_new['structure_data'] = df_new['path'].apply(resize_img)\n"
     ]
    }
   ],
   "source": [
    "# structuring function\n",
    "df_new['structure_data'] = df_new['path'].apply(resize_img)"
   ]
  },
  {
   "cell_type": "code",
   "execution_count": 87,
   "id": "7d0e0ff8",
   "metadata": {},
   "outputs": [
    {
     "data": {
      "text/html": [
       "<div>\n",
       "<style scoped>\n",
       "    .dataframe tbody tr th:only-of-type {\n",
       "        vertical-align: middle;\n",
       "    }\n",
       "\n",
       "    .dataframe tbody tr th {\n",
       "        vertical-align: top;\n",
       "    }\n",
       "\n",
       "    .dataframe thead th {\n",
       "        text-align: right;\n",
       "    }\n",
       "</style>\n",
       "<table border=\"1\" class=\"dataframe\">\n",
       "  <thead>\n",
       "    <tr style=\"text-align: right;\">\n",
       "      <th></th>\n",
       "      <th>path</th>\n",
       "      <th>size</th>\n",
       "      <th>gender</th>\n",
       "      <th>structure_data</th>\n",
       "    </tr>\n",
       "  </thead>\n",
       "  <tbody>\n",
       "    <tr>\n",
       "      <th>0</th>\n",
       "      <td>./data/crop/female_crop\\female_0.png</td>\n",
       "      <td>273</td>\n",
       "      <td>female</td>\n",
       "      <td>[32, 32, 32, 32, 32, 32, 32, 32, 29, 19, 15, 1...</td>\n",
       "    </tr>\n",
       "    <tr>\n",
       "      <th>1</th>\n",
       "      <td>./data/crop/female_crop\\female_10.png</td>\n",
       "      <td>182</td>\n",
       "      <td>female</td>\n",
       "      <td>[250, 250, 250, 250, 250, 249, 247, 241, 193, ...</td>\n",
       "    </tr>\n",
       "    <tr>\n",
       "      <th>2</th>\n",
       "      <td>./data/crop/female_crop\\female_100.png</td>\n",
       "      <td>273</td>\n",
       "      <td>female</td>\n",
       "      <td>[161, 161, 162, 161, 158, 158, 133, 131, 88, 1...</td>\n",
       "    </tr>\n",
       "    <tr>\n",
       "      <th>3</th>\n",
       "      <td>./data/crop/female_crop\\female_102.png</td>\n",
       "      <td>273</td>\n",
       "      <td>female</td>\n",
       "      <td>[95, 94, 96, 93, 91, 97, 98, 69, 25, 24, 16, 2...</td>\n",
       "    </tr>\n",
       "    <tr>\n",
       "      <th>4</th>\n",
       "      <td>./data/crop/female_crop\\female_104.png</td>\n",
       "      <td>273</td>\n",
       "      <td>female</td>\n",
       "      <td>[36, 30, 32, 31, 43, 11, 7, 47, 30, 37, 36, 65...</td>\n",
       "    </tr>\n",
       "    <tr>\n",
       "      <th>...</th>\n",
       "      <td>...</td>\n",
       "      <td>...</td>\n",
       "      <td>...</td>\n",
       "      <td>...</td>\n",
       "    </tr>\n",
       "    <tr>\n",
       "      <th>145</th>\n",
       "      <td>./data/crop/male_crop\\male_92.png</td>\n",
       "      <td>182</td>\n",
       "      <td>male</td>\n",
       "      <td>[73, 95, 108, 102, 97, 82, 78, 86, 89, 132, 10...</td>\n",
       "    </tr>\n",
       "    <tr>\n",
       "      <th>146</th>\n",
       "      <td>./data/crop/male_crop\\male_93.png</td>\n",
       "      <td>410</td>\n",
       "      <td>male</td>\n",
       "      <td>[178, 179, 179, 180, 181, 182, 181, 183, 183, ...</td>\n",
       "    </tr>\n",
       "    <tr>\n",
       "      <th>147</th>\n",
       "      <td>./data/crop/male_crop\\male_94.png</td>\n",
       "      <td>182</td>\n",
       "      <td>male</td>\n",
       "      <td>[124, 87, 79, 66, 48, 39, 32, 31, 44, 30, 28, ...</td>\n",
       "    </tr>\n",
       "    <tr>\n",
       "      <th>148</th>\n",
       "      <td>./data/crop/male_crop\\male_97.png</td>\n",
       "      <td>273</td>\n",
       "      <td>male</td>\n",
       "      <td>[158, 147, 149, 168, 159, 151, 148, 132, 112, ...</td>\n",
       "    </tr>\n",
       "    <tr>\n",
       "      <th>149</th>\n",
       "      <td>./data/crop/male_crop\\male_98.png</td>\n",
       "      <td>273</td>\n",
       "      <td>male</td>\n",
       "      <td>[32, 36, 31, 20, 38, 51, 46, 52, 40, 26, 26, 3...</td>\n",
       "    </tr>\n",
       "  </tbody>\n",
       "</table>\n",
       "<p>149 rows × 4 columns</p>\n",
       "</div>"
      ],
      "text/plain": [
       "                                       path  size  gender  \\\n",
       "0      ./data/crop/female_crop\\female_0.png   273  female   \n",
       "1     ./data/crop/female_crop\\female_10.png   182  female   \n",
       "2    ./data/crop/female_crop\\female_100.png   273  female   \n",
       "3    ./data/crop/female_crop\\female_102.png   273  female   \n",
       "4    ./data/crop/female_crop\\female_104.png   273  female   \n",
       "..                                      ...   ...     ...   \n",
       "145       ./data/crop/male_crop\\male_92.png   182    male   \n",
       "146       ./data/crop/male_crop\\male_93.png   410    male   \n",
       "147       ./data/crop/male_crop\\male_94.png   182    male   \n",
       "148       ./data/crop/male_crop\\male_97.png   273    male   \n",
       "149       ./data/crop/male_crop\\male_98.png   273    male   \n",
       "\n",
       "                                        structure_data  \n",
       "0    [32, 32, 32, 32, 32, 32, 32, 32, 29, 19, 15, 1...  \n",
       "1    [250, 250, 250, 250, 250, 249, 247, 241, 193, ...  \n",
       "2    [161, 161, 162, 161, 158, 158, 133, 131, 88, 1...  \n",
       "3    [95, 94, 96, 93, 91, 97, 98, 69, 25, 24, 16, 2...  \n",
       "4    [36, 30, 32, 31, 43, 11, 7, 47, 30, 37, 36, 65...  \n",
       "..                                                 ...  \n",
       "145  [73, 95, 108, 102, 97, 82, 78, 86, 89, 132, 10...  \n",
       "146  [178, 179, 179, 180, 181, 182, 181, 183, 183, ...  \n",
       "147  [124, 87, 79, 66, 48, 39, 32, 31, 44, 30, 28, ...  \n",
       "148  [158, 147, 149, 168, 159, 151, 148, 132, 112, ...  \n",
       "149  [32, 36, 31, 20, 38, 51, 46, 52, 40, 26, 26, 3...  \n",
       "\n",
       "[149 rows x 4 columns]"
      ]
     },
     "execution_count": 87,
     "metadata": {},
     "output_type": "execute_result"
    }
   ],
   "source": [
    "df_new"
   ]
  },
  {
   "cell_type": "code",
   "execution_count": 88,
   "id": "43760ca7",
   "metadata": {},
   "outputs": [
    {
     "data": {
      "text/plain": [
       "0      [32, 32, 32, 32, 32, 32, 32, 32, 29, 19, 15, 1...\n",
       "1      [250, 250, 250, 250, 250, 249, 247, 241, 193, ...\n",
       "2      [161, 161, 162, 161, 158, 158, 133, 131, 88, 1...\n",
       "3      [95, 94, 96, 93, 91, 97, 98, 69, 25, 24, 16, 2...\n",
       "4      [36, 30, 32, 31, 43, 11, 7, 47, 30, 37, 36, 65...\n",
       "                             ...                        \n",
       "145    [73, 95, 108, 102, 97, 82, 78, 86, 89, 132, 10...\n",
       "146    [178, 179, 179, 180, 181, 182, 181, 183, 183, ...\n",
       "147    [124, 87, 79, 66, 48, 39, 32, 31, 44, 30, 28, ...\n",
       "148    [158, 147, 149, 168, 159, 151, 148, 132, 112, ...\n",
       "149    [32, 36, 31, 20, 38, 51, 46, 52, 40, 26, 26, 3...\n",
       "Name: structure_data, Length: 149, dtype: object"
      ]
     },
     "execution_count": 88,
     "metadata": {},
     "output_type": "execute_result"
    }
   ],
   "source": [
    "df1 = df_new['structure_data']\n",
    "df1"
   ]
  },
  {
   "cell_type": "code",
   "execution_count": 90,
   "id": "9a110646",
   "metadata": {},
   "outputs": [
    {
     "data": {
      "text/html": [
       "<div>\n",
       "<style scoped>\n",
       "    .dataframe tbody tr th:only-of-type {\n",
       "        vertical-align: middle;\n",
       "    }\n",
       "\n",
       "    .dataframe tbody tr th {\n",
       "        vertical-align: top;\n",
       "    }\n",
       "\n",
       "    .dataframe thead th {\n",
       "        text-align: right;\n",
       "    }\n",
       "</style>\n",
       "<table border=\"1\" class=\"dataframe\">\n",
       "  <thead>\n",
       "    <tr style=\"text-align: right;\">\n",
       "      <th></th>\n",
       "      <th>0</th>\n",
       "      <th>1</th>\n",
       "      <th>2</th>\n",
       "      <th>3</th>\n",
       "      <th>4</th>\n",
       "      <th>5</th>\n",
       "      <th>6</th>\n",
       "      <th>7</th>\n",
       "      <th>8</th>\n",
       "      <th>9</th>\n",
       "      <th>...</th>\n",
       "      <th>9990</th>\n",
       "      <th>9991</th>\n",
       "      <th>9992</th>\n",
       "      <th>9993</th>\n",
       "      <th>9994</th>\n",
       "      <th>9995</th>\n",
       "      <th>9996</th>\n",
       "      <th>9997</th>\n",
       "      <th>9998</th>\n",
       "      <th>9999</th>\n",
       "    </tr>\n",
       "  </thead>\n",
       "  <tbody>\n",
       "    <tr>\n",
       "      <th>0</th>\n",
       "      <td>32</td>\n",
       "      <td>32</td>\n",
       "      <td>32</td>\n",
       "      <td>32</td>\n",
       "      <td>32</td>\n",
       "      <td>32</td>\n",
       "      <td>32</td>\n",
       "      <td>32</td>\n",
       "      <td>29</td>\n",
       "      <td>19</td>\n",
       "      <td>...</td>\n",
       "      <td>21</td>\n",
       "      <td>17</td>\n",
       "      <td>17</td>\n",
       "      <td>16</td>\n",
       "      <td>15</td>\n",
       "      <td>15</td>\n",
       "      <td>15</td>\n",
       "      <td>17</td>\n",
       "      <td>16</td>\n",
       "      <td>11</td>\n",
       "    </tr>\n",
       "    <tr>\n",
       "      <th>1</th>\n",
       "      <td>250</td>\n",
       "      <td>250</td>\n",
       "      <td>250</td>\n",
       "      <td>250</td>\n",
       "      <td>250</td>\n",
       "      <td>249</td>\n",
       "      <td>247</td>\n",
       "      <td>241</td>\n",
       "      <td>193</td>\n",
       "      <td>196</td>\n",
       "      <td>...</td>\n",
       "      <td>15</td>\n",
       "      <td>16</td>\n",
       "      <td>16</td>\n",
       "      <td>14</td>\n",
       "      <td>16</td>\n",
       "      <td>18</td>\n",
       "      <td>20</td>\n",
       "      <td>19</td>\n",
       "      <td>22</td>\n",
       "      <td>24</td>\n",
       "    </tr>\n",
       "    <tr>\n",
       "      <th>2</th>\n",
       "      <td>161</td>\n",
       "      <td>161</td>\n",
       "      <td>162</td>\n",
       "      <td>161</td>\n",
       "      <td>158</td>\n",
       "      <td>158</td>\n",
       "      <td>133</td>\n",
       "      <td>131</td>\n",
       "      <td>88</td>\n",
       "      <td>130</td>\n",
       "      <td>...</td>\n",
       "      <td>70</td>\n",
       "      <td>67</td>\n",
       "      <td>58</td>\n",
       "      <td>81</td>\n",
       "      <td>97</td>\n",
       "      <td>98</td>\n",
       "      <td>105</td>\n",
       "      <td>103</td>\n",
       "      <td>103</td>\n",
       "      <td>102</td>\n",
       "    </tr>\n",
       "    <tr>\n",
       "      <th>3</th>\n",
       "      <td>95</td>\n",
       "      <td>94</td>\n",
       "      <td>96</td>\n",
       "      <td>93</td>\n",
       "      <td>91</td>\n",
       "      <td>97</td>\n",
       "      <td>98</td>\n",
       "      <td>69</td>\n",
       "      <td>25</td>\n",
       "      <td>24</td>\n",
       "      <td>...</td>\n",
       "      <td>194</td>\n",
       "      <td>157</td>\n",
       "      <td>44</td>\n",
       "      <td>165</td>\n",
       "      <td>188</td>\n",
       "      <td>190</td>\n",
       "      <td>190</td>\n",
       "      <td>190</td>\n",
       "      <td>189</td>\n",
       "      <td>188</td>\n",
       "    </tr>\n",
       "    <tr>\n",
       "      <th>4</th>\n",
       "      <td>36</td>\n",
       "      <td>30</td>\n",
       "      <td>32</td>\n",
       "      <td>31</td>\n",
       "      <td>43</td>\n",
       "      <td>11</td>\n",
       "      <td>7</td>\n",
       "      <td>47</td>\n",
       "      <td>30</td>\n",
       "      <td>37</td>\n",
       "      <td>...</td>\n",
       "      <td>152</td>\n",
       "      <td>64</td>\n",
       "      <td>54</td>\n",
       "      <td>29</td>\n",
       "      <td>35</td>\n",
       "      <td>75</td>\n",
       "      <td>213</td>\n",
       "      <td>217</td>\n",
       "      <td>222</td>\n",
       "      <td>223</td>\n",
       "    </tr>\n",
       "    <tr>\n",
       "      <th>...</th>\n",
       "      <td>...</td>\n",
       "      <td>...</td>\n",
       "      <td>...</td>\n",
       "      <td>...</td>\n",
       "      <td>...</td>\n",
       "      <td>...</td>\n",
       "      <td>...</td>\n",
       "      <td>...</td>\n",
       "      <td>...</td>\n",
       "      <td>...</td>\n",
       "      <td>...</td>\n",
       "      <td>...</td>\n",
       "      <td>...</td>\n",
       "      <td>...</td>\n",
       "      <td>...</td>\n",
       "      <td>...</td>\n",
       "      <td>...</td>\n",
       "      <td>...</td>\n",
       "      <td>...</td>\n",
       "      <td>...</td>\n",
       "      <td>...</td>\n",
       "    </tr>\n",
       "    <tr>\n",
       "      <th>145</th>\n",
       "      <td>73</td>\n",
       "      <td>95</td>\n",
       "      <td>108</td>\n",
       "      <td>102</td>\n",
       "      <td>97</td>\n",
       "      <td>82</td>\n",
       "      <td>78</td>\n",
       "      <td>86</td>\n",
       "      <td>89</td>\n",
       "      <td>132</td>\n",
       "      <td>...</td>\n",
       "      <td>88</td>\n",
       "      <td>92</td>\n",
       "      <td>95</td>\n",
       "      <td>97</td>\n",
       "      <td>98</td>\n",
       "      <td>101</td>\n",
       "      <td>106</td>\n",
       "      <td>109</td>\n",
       "      <td>113</td>\n",
       "      <td>115</td>\n",
       "    </tr>\n",
       "    <tr>\n",
       "      <th>146</th>\n",
       "      <td>178</td>\n",
       "      <td>179</td>\n",
       "      <td>179</td>\n",
       "      <td>180</td>\n",
       "      <td>181</td>\n",
       "      <td>182</td>\n",
       "      <td>181</td>\n",
       "      <td>183</td>\n",
       "      <td>183</td>\n",
       "      <td>185</td>\n",
       "      <td>...</td>\n",
       "      <td>3</td>\n",
       "      <td>4</td>\n",
       "      <td>4</td>\n",
       "      <td>4</td>\n",
       "      <td>3</td>\n",
       "      <td>4</td>\n",
       "      <td>5</td>\n",
       "      <td>7</td>\n",
       "      <td>7</td>\n",
       "      <td>7</td>\n",
       "    </tr>\n",
       "    <tr>\n",
       "      <th>147</th>\n",
       "      <td>124</td>\n",
       "      <td>87</td>\n",
       "      <td>79</td>\n",
       "      <td>66</td>\n",
       "      <td>48</td>\n",
       "      <td>39</td>\n",
       "      <td>32</td>\n",
       "      <td>31</td>\n",
       "      <td>44</td>\n",
       "      <td>30</td>\n",
       "      <td>...</td>\n",
       "      <td>12</td>\n",
       "      <td>24</td>\n",
       "      <td>41</td>\n",
       "      <td>18</td>\n",
       "      <td>18</td>\n",
       "      <td>41</td>\n",
       "      <td>42</td>\n",
       "      <td>16</td>\n",
       "      <td>46</td>\n",
       "      <td>46</td>\n",
       "    </tr>\n",
       "    <tr>\n",
       "      <th>148</th>\n",
       "      <td>158</td>\n",
       "      <td>147</td>\n",
       "      <td>149</td>\n",
       "      <td>168</td>\n",
       "      <td>159</td>\n",
       "      <td>151</td>\n",
       "      <td>148</td>\n",
       "      <td>132</td>\n",
       "      <td>112</td>\n",
       "      <td>93</td>\n",
       "      <td>...</td>\n",
       "      <td>134</td>\n",
       "      <td>124</td>\n",
       "      <td>110</td>\n",
       "      <td>110</td>\n",
       "      <td>87</td>\n",
       "      <td>77</td>\n",
       "      <td>69</td>\n",
       "      <td>74</td>\n",
       "      <td>78</td>\n",
       "      <td>83</td>\n",
       "    </tr>\n",
       "    <tr>\n",
       "      <th>149</th>\n",
       "      <td>32</td>\n",
       "      <td>36</td>\n",
       "      <td>31</td>\n",
       "      <td>20</td>\n",
       "      <td>38</td>\n",
       "      <td>51</td>\n",
       "      <td>46</td>\n",
       "      <td>52</td>\n",
       "      <td>40</td>\n",
       "      <td>26</td>\n",
       "      <td>...</td>\n",
       "      <td>12</td>\n",
       "      <td>11</td>\n",
       "      <td>13</td>\n",
       "      <td>13</td>\n",
       "      <td>13</td>\n",
       "      <td>13</td>\n",
       "      <td>14</td>\n",
       "      <td>16</td>\n",
       "      <td>18</td>\n",
       "      <td>25</td>\n",
       "    </tr>\n",
       "  </tbody>\n",
       "</table>\n",
       "<p>149 rows × 10000 columns</p>\n",
       "</div>"
      ],
      "text/plain": [
       "     0     1     2     3     4     5     6     7     8     9     ...  9990  \\\n",
       "0      32    32    32    32    32    32    32    32    29    19  ...    21   \n",
       "1     250   250   250   250   250   249   247   241   193   196  ...    15   \n",
       "2     161   161   162   161   158   158   133   131    88   130  ...    70   \n",
       "3      95    94    96    93    91    97    98    69    25    24  ...   194   \n",
       "4      36    30    32    31    43    11     7    47    30    37  ...   152   \n",
       "..    ...   ...   ...   ...   ...   ...   ...   ...   ...   ...  ...   ...   \n",
       "145    73    95   108   102    97    82    78    86    89   132  ...    88   \n",
       "146   178   179   179   180   181   182   181   183   183   185  ...     3   \n",
       "147   124    87    79    66    48    39    32    31    44    30  ...    12   \n",
       "148   158   147   149   168   159   151   148   132   112    93  ...   134   \n",
       "149    32    36    31    20    38    51    46    52    40    26  ...    12   \n",
       "\n",
       "     9991  9992  9993  9994  9995  9996  9997  9998  9999  \n",
       "0      17    17    16    15    15    15    17    16    11  \n",
       "1      16    16    14    16    18    20    19    22    24  \n",
       "2      67    58    81    97    98   105   103   103   102  \n",
       "3     157    44   165   188   190   190   190   189   188  \n",
       "4      64    54    29    35    75   213   217   222   223  \n",
       "..    ...   ...   ...   ...   ...   ...   ...   ...   ...  \n",
       "145    92    95    97    98   101   106   109   113   115  \n",
       "146     4     4     4     3     4     5     7     7     7  \n",
       "147    24    41    18    18    41    42    16    46    46  \n",
       "148   124   110   110    87    77    69    74    78    83  \n",
       "149    11    13    13    13    13    14    16    18    25  \n",
       "\n",
       "[149 rows x 10000 columns]"
      ]
     },
     "execution_count": 90,
     "metadata": {},
     "output_type": "execute_result"
    }
   ],
   "source": [
    "# copy and expand their columns\n",
    "df1 = df_new['structure_data'].apply(pd.Series)\n",
    "df1"
   ]
  },
  {
   "cell_type": "code",
   "execution_count": 91,
   "id": "beda45c1",
   "metadata": {},
   "outputs": [],
   "source": [
    "# copy and expand their columns\n",
    "df1 = df_new['structure_data'].apply(pd.Series)"
   ]
  },
  {
   "cell_type": "code",
   "execution_count": 92,
   "id": "5a470091",
   "metadata": {},
   "outputs": [],
   "source": [
    "df2 = pd.concat((df_new['gender'],df1),axis=1)"
   ]
  },
  {
   "cell_type": "code",
   "execution_count": 93,
   "id": "ce51a9be",
   "metadata": {},
   "outputs": [
    {
     "data": {
      "text/html": [
       "<div>\n",
       "<style scoped>\n",
       "    .dataframe tbody tr th:only-of-type {\n",
       "        vertical-align: middle;\n",
       "    }\n",
       "\n",
       "    .dataframe tbody tr th {\n",
       "        vertical-align: top;\n",
       "    }\n",
       "\n",
       "    .dataframe thead th {\n",
       "        text-align: right;\n",
       "    }\n",
       "</style>\n",
       "<table border=\"1\" class=\"dataframe\">\n",
       "  <thead>\n",
       "    <tr style=\"text-align: right;\">\n",
       "      <th></th>\n",
       "      <th>gender</th>\n",
       "      <th>0</th>\n",
       "      <th>1</th>\n",
       "      <th>2</th>\n",
       "      <th>3</th>\n",
       "      <th>4</th>\n",
       "      <th>5</th>\n",
       "      <th>6</th>\n",
       "      <th>7</th>\n",
       "      <th>8</th>\n",
       "      <th>...</th>\n",
       "      <th>9990</th>\n",
       "      <th>9991</th>\n",
       "      <th>9992</th>\n",
       "      <th>9993</th>\n",
       "      <th>9994</th>\n",
       "      <th>9995</th>\n",
       "      <th>9996</th>\n",
       "      <th>9997</th>\n",
       "      <th>9998</th>\n",
       "      <th>9999</th>\n",
       "    </tr>\n",
       "  </thead>\n",
       "  <tbody>\n",
       "    <tr>\n",
       "      <th>0</th>\n",
       "      <td>female</td>\n",
       "      <td>32</td>\n",
       "      <td>32</td>\n",
       "      <td>32</td>\n",
       "      <td>32</td>\n",
       "      <td>32</td>\n",
       "      <td>32</td>\n",
       "      <td>32</td>\n",
       "      <td>32</td>\n",
       "      <td>29</td>\n",
       "      <td>...</td>\n",
       "      <td>21</td>\n",
       "      <td>17</td>\n",
       "      <td>17</td>\n",
       "      <td>16</td>\n",
       "      <td>15</td>\n",
       "      <td>15</td>\n",
       "      <td>15</td>\n",
       "      <td>17</td>\n",
       "      <td>16</td>\n",
       "      <td>11</td>\n",
       "    </tr>\n",
       "    <tr>\n",
       "      <th>1</th>\n",
       "      <td>female</td>\n",
       "      <td>250</td>\n",
       "      <td>250</td>\n",
       "      <td>250</td>\n",
       "      <td>250</td>\n",
       "      <td>250</td>\n",
       "      <td>249</td>\n",
       "      <td>247</td>\n",
       "      <td>241</td>\n",
       "      <td>193</td>\n",
       "      <td>...</td>\n",
       "      <td>15</td>\n",
       "      <td>16</td>\n",
       "      <td>16</td>\n",
       "      <td>14</td>\n",
       "      <td>16</td>\n",
       "      <td>18</td>\n",
       "      <td>20</td>\n",
       "      <td>19</td>\n",
       "      <td>22</td>\n",
       "      <td>24</td>\n",
       "    </tr>\n",
       "    <tr>\n",
       "      <th>2</th>\n",
       "      <td>female</td>\n",
       "      <td>161</td>\n",
       "      <td>161</td>\n",
       "      <td>162</td>\n",
       "      <td>161</td>\n",
       "      <td>158</td>\n",
       "      <td>158</td>\n",
       "      <td>133</td>\n",
       "      <td>131</td>\n",
       "      <td>88</td>\n",
       "      <td>...</td>\n",
       "      <td>70</td>\n",
       "      <td>67</td>\n",
       "      <td>58</td>\n",
       "      <td>81</td>\n",
       "      <td>97</td>\n",
       "      <td>98</td>\n",
       "      <td>105</td>\n",
       "      <td>103</td>\n",
       "      <td>103</td>\n",
       "      <td>102</td>\n",
       "    </tr>\n",
       "    <tr>\n",
       "      <th>3</th>\n",
       "      <td>female</td>\n",
       "      <td>95</td>\n",
       "      <td>94</td>\n",
       "      <td>96</td>\n",
       "      <td>93</td>\n",
       "      <td>91</td>\n",
       "      <td>97</td>\n",
       "      <td>98</td>\n",
       "      <td>69</td>\n",
       "      <td>25</td>\n",
       "      <td>...</td>\n",
       "      <td>194</td>\n",
       "      <td>157</td>\n",
       "      <td>44</td>\n",
       "      <td>165</td>\n",
       "      <td>188</td>\n",
       "      <td>190</td>\n",
       "      <td>190</td>\n",
       "      <td>190</td>\n",
       "      <td>189</td>\n",
       "      <td>188</td>\n",
       "    </tr>\n",
       "    <tr>\n",
       "      <th>4</th>\n",
       "      <td>female</td>\n",
       "      <td>36</td>\n",
       "      <td>30</td>\n",
       "      <td>32</td>\n",
       "      <td>31</td>\n",
       "      <td>43</td>\n",
       "      <td>11</td>\n",
       "      <td>7</td>\n",
       "      <td>47</td>\n",
       "      <td>30</td>\n",
       "      <td>...</td>\n",
       "      <td>152</td>\n",
       "      <td>64</td>\n",
       "      <td>54</td>\n",
       "      <td>29</td>\n",
       "      <td>35</td>\n",
       "      <td>75</td>\n",
       "      <td>213</td>\n",
       "      <td>217</td>\n",
       "      <td>222</td>\n",
       "      <td>223</td>\n",
       "    </tr>\n",
       "  </tbody>\n",
       "</table>\n",
       "<p>5 rows × 10001 columns</p>\n",
       "</div>"
      ],
      "text/plain": [
       "   gender    0    1    2    3    4    5    6    7    8  ...  9990  9991  9992  \\\n",
       "0  female   32   32   32   32   32   32   32   32   29  ...    21    17    17   \n",
       "1  female  250  250  250  250  250  249  247  241  193  ...    15    16    16   \n",
       "2  female  161  161  162  161  158  158  133  131   88  ...    70    67    58   \n",
       "3  female   95   94   96   93   91   97   98   69   25  ...   194   157    44   \n",
       "4  female   36   30   32   31   43   11    7   47   30  ...   152    64    54   \n",
       "\n",
       "   9993  9994  9995  9996  9997  9998  9999  \n",
       "0    16    15    15    15    17    16    11  \n",
       "1    14    16    18    20    19    22    24  \n",
       "2    81    97    98   105   103   103   102  \n",
       "3   165   188   190   190   190   189   188  \n",
       "4    29    35    75   213   217   222   223  \n",
       "\n",
       "[5 rows x 10001 columns]"
      ]
     },
     "execution_count": 93,
     "metadata": {},
     "output_type": "execute_result"
    }
   ],
   "source": [
    "df2.head()"
   ]
  },
  {
   "cell_type": "code",
   "execution_count": 94,
   "id": "234076b4",
   "metadata": {},
   "outputs": [
    {
     "data": {
      "text/plain": [
       "gender    female\n",
       "0             32\n",
       "1             32\n",
       "2             32\n",
       "3             32\n",
       "           ...  \n",
       "9995          15\n",
       "9996          15\n",
       "9997          17\n",
       "9998          16\n",
       "9999          11\n",
       "Name: 0, Length: 10001, dtype: object"
      ]
     },
     "execution_count": 94,
     "metadata": {},
     "output_type": "execute_result"
    }
   ],
   "source": [
    "df2.loc[0]"
   ]
  },
  {
   "cell_type": "code",
   "execution_count": 95,
   "id": "eb5ff083",
   "metadata": {},
   "outputs": [
    {
     "data": {
      "text/plain": [
       "gender    female\n",
       "0             32\n",
       "1             32\n",
       "2             32\n",
       "3             32\n",
       "           ...  \n",
       "9995          15\n",
       "9996          15\n",
       "9997          17\n",
       "9998          16\n",
       "9999          11\n",
       "Name: 0, Length: 10001, dtype: object"
      ]
     },
     "execution_count": 95,
     "metadata": {},
     "output_type": "execute_result"
    }
   ],
   "source": [
    "df2.loc[0][::]"
   ]
  },
  {
   "cell_type": "code",
   "execution_count": 96,
   "id": "1785b1b8",
   "metadata": {},
   "outputs": [
    {
     "data": {
      "text/plain": [
       "0       32\n",
       "1       32\n",
       "2       32\n",
       "3       32\n",
       "4       32\n",
       "        ..\n",
       "9995    15\n",
       "9996    15\n",
       "9997    17\n",
       "9998    16\n",
       "9999    11\n",
       "Name: 0, Length: 10000, dtype: object"
      ]
     },
     "execution_count": 96,
     "metadata": {},
     "output_type": "execute_result"
    }
   ],
   "source": [
    "df2.loc[0][1:]"
   ]
  },
  {
   "cell_type": "code",
   "execution_count": 97,
   "id": "d0e007d6",
   "metadata": {},
   "outputs": [
    {
     "data": {
      "text/plain": [
       "array([32, 32, 32, ..., 17, 16, 11], dtype=object)"
      ]
     },
     "execution_count": 97,
     "metadata": {},
     "output_type": "execute_result"
    }
   ],
   "source": [
    "df2.loc[0][1:].values"
   ]
  },
  {
   "cell_type": "code",
   "execution_count": 98,
   "id": "19c611fd",
   "metadata": {},
   "outputs": [
    {
     "data": {
      "text/plain": [
       "array([[32, 32, 32, ..., 39, 38, 38],\n",
       "       [32, 32, 32, ..., 39, 38, 38],\n",
       "       [32, 32, 32, ..., 39, 39, 39],\n",
       "       ...,\n",
       "       [15, 14, 14, ..., 24, 24, 24],\n",
       "       [15, 15, 13, ..., 24, 23, 21],\n",
       "       [14, 16, 13, ..., 17, 16, 11]], dtype=object)"
      ]
     },
     "execution_count": 98,
     "metadata": {},
     "output_type": "execute_result"
    }
   ],
   "source": [
    "df2.loc[0][1:].values.reshape(100,100)"
   ]
  },
  {
   "cell_type": "code",
   "execution_count": 99,
   "id": "f3f58977",
   "metadata": {},
   "outputs": [
    {
     "data": {
      "text/plain": [
       "<matplotlib.image.AxesImage at 0xa0ad6b8>"
      ]
     },
     "execution_count": 99,
     "metadata": {},
     "output_type": "execute_result"
    },
    {
     "data": {
      "image/png": "[encoded data removed]",
      "text/plain": [
       "<Figure size 432x288 with 1 Axes>"
      ]
     },
     "metadata": {
      "needs_background": "light"
     },
     "output_type": "display_data"
    }
   ],
   "source": [
    "plt.imshow(df2.loc[0][1:].values.reshape(100,100).astype('int'))"
   ]
  },
  {
   "cell_type": "code",
   "execution_count": 100,
   "id": "065ca909",
   "metadata": {},
   "outputs": [
    {
     "data": {
      "text/plain": [
       "<matplotlib.image.AxesImage at 0x96a8748>"
      ]
     },
     "execution_count": 100,
     "metadata": {},
     "output_type": "execute_result"
    },
    {
     "data": {
      "image/png": "[encoded data removed]",
      "text/plain": [
       "<Figure size 432x288 with 1 Axes>"
      ]
     },
     "metadata": {
      "needs_background": "light"
     },
     "output_type": "display_data"
    }
   ],
   "source": [
    "plt.imshow(df2.loc[0][1:].values.reshape(100,100).astype('int'),cmap='gray')"
   ]
  },
  {
   "cell_type": "code",
   "execution_count": 104,
   "id": "cf56af96",
   "metadata": {},
   "outputs": [
    {
     "data": {
      "text/plain": [
       "Text(0.5, 1.0, '32')"
      ]
     },
     "execution_count": 104,
     "metadata": {},
     "output_type": "execute_result"
    },
    {
     "data": {
      "image/png": "[encoded data removed]",
      "text/plain": [
       "<Figure size 432x288 with 1 Axes>"
      ]
     },
     "metadata": {
      "needs_background": "light"
     },
     "output_type": "display_data"
    }
   ],
   "source": [
    "plt.imshow(df2.loc[0][1:].values.reshape(100,100).astype('int'),cmap='gray')\n",
    "plt.title(df2.loc[0][0])"
   ]
  },
  {
   "cell_type": "code",
   "execution_count": 102,
   "id": "56535cfb",
   "metadata": {},
   "outputs": [
    {
     "data": {
      "text/plain": [
       "gender    female\n",
       "0             32\n",
       "1             32\n",
       "2             32\n",
       "3             32\n",
       "           ...  \n",
       "9995          15\n",
       "9996          15\n",
       "9997          17\n",
       "9998          16\n",
       "9999          11\n",
       "Name: 0, Length: 10001, dtype: object"
      ]
     },
     "execution_count": 102,
     "metadata": {},
     "output_type": "execute_result"
    }
   ],
   "source": [
    "df2.loc[0]"
   ]
  },
  {
   "cell_type": "code",
   "execution_count": 103,
   "id": "9a4b094e",
   "metadata": {},
   "outputs": [
    {
     "data": {
      "text/plain": [
       "'female'"
      ]
     },
     "execution_count": 103,
     "metadata": {},
     "output_type": "execute_result"
    }
   ],
   "source": [
    "df2.loc[0]['gender']"
   ]
  },
  {
   "cell_type": "code",
   "execution_count": 105,
   "id": "235fb4d9",
   "metadata": {},
   "outputs": [
    {
     "data": {
      "image/png": "[encoded data removed]",
      "text/plain": [
       "<Figure size 432x288 with 1 Axes>"
      ]
     },
     "metadata": {
      "needs_background": "light"
     },
     "output_type": "display_data"
    }
   ],
   "source": [
    "plt.imshow(df2.loc[0][1:].values.reshape(100,100).astype('int'),cmap='gray')\n",
    "plt.title(\"Label:\"+df2.loc[0]['gender'])\n",
    "plt.show()"
   ]
  },
  {
   "cell_type": "code",
   "execution_count": 106,
   "id": "fcc886df",
   "metadata": {},
   "outputs": [],
   "source": [
    "import pickle"
   ]
  },
  {
   "cell_type": "code",
   "execution_count": 107,
   "id": "c024112f",
   "metadata": {},
   "outputs": [],
   "source": [
    "pickle.dump(df2,open('./data/dataframe_images_100_100.pickle','wb'))"
   ]
  },
  {
   "cell_type": "code",
   "execution_count": null,
   "id": "f98fd4d2",
   "metadata": {},
   "outputs": [],
   "source": []
  }
 ],
 "metadata": {
  "kernelspec": {
   "display_name": "Python 3",
   "language": "python",
   "name": "python3"
  },
  "language_info": {
   "codemirror_mode": {
    "name": "ipython",
    "version": 3
   },
   "file_extension": ".py",
   "mimetype": "text/x-python",
   "name": "python",
   "nbconvert_exporter": "python",
   "pygments_lexer": "ipython3",
   "version": "3.8.8"
  }
 },
 "nbformat": 4,
 "nbformat_minor": 5
}
